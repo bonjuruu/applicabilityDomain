{
 "cells": [
  {
   "cell_type": "code",
   "execution_count": 73,
   "id": "8e239f3e",
   "metadata": {},
   "outputs": [],
   "source": [
    "import pandas as pd\n",
    "import numpy as np\n",
    "import os\n",
    "import sklearn\n",
    "import math\n",
    "from scipy.spatial.distance import cdist\n",
    "from sklearn.metrics import accuracy_score, roc_auc_score, confusion_matrix, roc_curve\n",
    "from sklearn.ensemble import RandomForestClassifier\n",
    "from sklearn.svm import SVC\n",
    "import matplotlib.pyplot as plt"
   ]
  },
  {
   "cell_type": "code",
   "execution_count": 74,
   "id": "5b485f92",
   "metadata": {},
   "outputs": [],
   "source": [
    "class ClassifierInterface:\n",
    "    def train_model(X_train, y_train):\n",
    "        pass\n",
    "    \n",
    "class RandomForest(ClassifierInterface):\n",
    "    def __init__(self):\n",
    "        self.model = RandomForestClassifier(n_estimators=300, max_features=\"auto\")\n",
    "    def train_model(self, X_train, y_train):\n",
    "        self.model.fit(X_train, y_train)\n",
    "        \n",
    "class SVM(ClassifierInterface):\n",
    "    def __init__(self):\n",
    "        self.model = SVC(gamma='auto', C=100)\n",
    "    def train_model(self, X_train, y_train):\n",
    "        self.model.fit(X_train, y_train)"
   ]
  },
  {
   "cell_type": "code",
   "execution_count": 82,
   "id": "44fb015f",
   "metadata": {},
   "outputs": [],
   "source": [
    "class AppDomainInterface:\n",
    "    def __init__(self, AbstractClassifier, k, normal):\n",
    "        pass\n",
    "    \n",
    "    def fit(self, X_train):\n",
    "        pass\n",
    "    \n",
    "    def predict(self, X_test, y_test):\n",
    "        pass\n",
    "    \n",
    "    def predict_proba(self):\n",
    "        pass\n",
    "    \n",
    "    def accuracy(self):\n",
    "        pass\n",
    "    \n",
    "    def sensitivity(self):\n",
    "        pass\n",
    "    \n",
    "    def specificity(self):\n",
    "        pass\n",
    "    \n",
    "    def AUC_ROC(self):\n",
    "        pass\n",
    "    \n",
    "    def _get_distance(self, a, b, sort=True):\n",
    "        pass\n",
    "    \n",
    "    def _measure(self, test):\n",
    "        pass\n",
    "    \n",
    "class AppDomainYEuc(AppDomainInterface):\n",
    "    def __init__(self, classifier, k=5, normal=0.95):\n",
    "        self.__classifier = classifier\n",
    "        self.__k = k\n",
    "        self.__normal = normal\n",
    "        \n",
    "    def fit(self, X_train):\n",
    "        self.__kNN_train_distance_sorted = self._get_distance(X_train, X_train, True)\n",
    "        index = round(len(self.__kNN_train_distance_sorted) * self.__normal) - 1  #find max distance number's index\n",
    "        self.__threshold = self.__kNN_train_distance_sorted[index]     #max distance number\n",
    "        \n",
    "    def predict(self, X_test, y_test):\n",
    "        dist_measure = self._measure(X_test) #Measures if its within the distance model\n",
    "        \n",
    "        self.__inOrOut = dist_measure <= 1     #creates true or false list of whether it fits the model\n",
    "        \n",
    "        self.__y_test = y_test\n",
    "        self.__y_pred = self.__classifier.model.predict(X_test)\n",
    "        self.__y_pred[~self.__inOrOut] = 0       #makes all outliers false\n",
    "        \n",
    "        self.__predict_proba = self.__classifier.model.predict_proba(X_test)\n",
    "        self.__predict_proba[~self.__inOrOut][0] = 1\n",
    "        self.__predict_proba[~self.__inOrOut][1] = 0\n",
    "        \n",
    "        self.__accuracy = accuracy_score(y_test, self.__y_pred)\n",
    "        self.__confusion_matrix = confusion_matrix(y_test, self.__y_pred)\n",
    "        tn, fp, fn, tp = self.__confusion_matrix.ravel()\n",
    "        self.__sensitivity = tp / (tp + fn)\n",
    "        self.__specificity = tn / (tn + fp)\n",
    "        \n",
    "        self.__AUC_ROC = roc_auc_score(y_test, self.__predict_proba[:, 1])\n",
    "        \n",
    "        print(\"Accuracy:\",self.__accuracy)\n",
    "        \n",
    "        return self.__y_pred\n",
    "        \n",
    "    \n",
    "    def predict_proba(self):\n",
    "        return self.__predict_proba\n",
    "    \n",
    "    def accuracy(self):\n",
    "        return self.__accuracy\n",
    "    \n",
    "    def sensitivity(self):\n",
    "        return self.__sensitivity\n",
    "    \n",
    "    def specificity(self):\n",
    "        return self.__specificity\n",
    "    \n",
    "    def AUC_ROC(self):\n",
    "        return self.__AUC_ROC\n",
    "    \n",
    "    def AUC_random(self):\n",
    "        return 0.5 * (self.__sensitivity + self.__specificity)\n",
    "    \n",
    "    def AUC_max(self):\n",
    "        return 1 - ((1-self.__sensitivity) * (1-self.__specificity))\n",
    "    \n",
    "    def show_ROC_curve(self):\n",
    "        fpr, tpr, thresh = roc_curve(self.__y_test, self.__predict_proba[:, 1], pos_label=1)\n",
    "        \n",
    "        random_probs = [0 for i in range(len(self.__y_test))]\n",
    "        p_fpr, p_tpr, p_thresh = roc_curve(self.__y_test, random_probs, pos_label=1)\n",
    "        \n",
    "        plt.style.use('seaborn-whitegrid')\n",
    "        plt.plot(fpr, tpr, linestyle='--', color='blue', label='Y Euclidean')\n",
    "        plt.plot(p_fpr, p_tpr, linestyle='--', color='green')\n",
    "        \n",
    "        plt.title('ROC curve')\n",
    "        plt.xlabel('False Positive rate')\n",
    "        plt.ylabel('True Positive rate')\n",
    "        \n",
    "        plt.legend(loc='best')\n",
    "        plt.savefig('ROC_Y_Euclidean', dpi=300)\n",
    "        plt.show\n",
    "        \n",
    "    \n",
    "    def _get_distance(self, XA, XB, sort=True):\n",
    "        distance = cdist(XA, XB, metric='euclidean')\n",
    "        distance.sort()\n",
    "        \n",
    "        kNN_distance = np.mean(distance[:, :self.__k+1], axis=1)\n",
    "        if sort:\n",
    "            kNN_distance.sort()\n",
    "        return kNN_distance\n",
    "    \n",
    "    def _measure(self, X_test):                    \n",
    "        self.__kNN_train_test_distance = self._get_distance(X_test, X_train, False)\n",
    "        \n",
    "        measure = self.__kNN_train_test_distance / self.__threshold\n",
    "        return measure"
   ]
  },
  {
   "cell_type": "code",
   "execution_count": 83,
   "id": "728e4602",
   "metadata": {},
   "outputs": [],
   "source": [
    "files_path = os.path.join(os.getcwd(), 'datasets')\n",
    "\n",
    "dataset_files = [os.path.join(files_path, file) for file in os.listdir(files_path)]\n",
    "\n",
    "features = pd.read_csv(dataset_files[0])"
   ]
  },
  {
   "cell_type": "code",
   "execution_count": 84,
   "id": "ce19f35e",
   "metadata": {},
   "outputs": [],
   "source": [
    "X = features.iloc[:, :-1].values\n",
    "y = features.iloc[:, -1].values"
   ]
  },
  {
   "cell_type": "code",
   "execution_count": 85,
   "id": "4950d1f0",
   "metadata": {},
   "outputs": [],
   "source": [
    "from sklearn.model_selection import train_test_split\n",
    "X_train, X_test, y_train, y_test = train_test_split(X, y, test_size=0.2)"
   ]
  },
  {
   "cell_type": "code",
   "execution_count": 86,
   "id": "51c3957e",
   "metadata": {},
   "outputs": [],
   "source": [
    "model = RandomForest()\n",
    "model.train_model(X_train, y_train)\n",
    "\n",
    "model2 = SVM()\n",
    "model2.train_model(X_train, y_train)\n",
    "\n",
    "ad = AppDomainYEuc(model)\n",
    "\n",
    "ad.fit(X_train)"
   ]
  },
  {
   "cell_type": "code",
   "execution_count": 87,
   "id": "dcdb7e6d",
   "metadata": {},
   "outputs": [
    {
     "name": "stdout",
     "output_type": "stream",
     "text": [
      "Accuracy: 0.7989255564082886\n"
     ]
    },
    {
     "data": {
      "text/plain": [
       "array([1., 1., 1., ..., 0., 1., 0.])"
      ]
     },
     "execution_count": 87,
     "metadata": {},
     "output_type": "execute_result"
    }
   ],
   "source": [
    "ad.predict(X_test, y_test)"
   ]
  },
  {
   "cell_type": "code",
   "execution_count": 89,
   "id": "09098356",
   "metadata": {},
   "outputs": [
    {
     "data": {
      "text/plain": [
       "0.7983425414364641"
      ]
     },
     "execution_count": 89,
     "metadata": {},
     "output_type": "execute_result"
    }
   ],
   "source": [
    "print(\"Sensitivity: \" + ad.sensitivity())"
   ]
  },
  {
   "cell_type": "code",
   "execution_count": 90,
   "id": "3e5bc59e",
   "metadata": {},
   "outputs": [
    {
     "data": {
      "text/plain": [
       "0.7996545768566494"
      ]
     },
     "execution_count": 90,
     "metadata": {},
     "output_type": "execute_result"
    }
   ],
   "source": [
    "print(\"Specificity: \" + ad.specificity())"
   ]
  },
  {
   "cell_type": "code",
   "execution_count": 92,
   "id": "a7377ed9",
   "metadata": {},
   "outputs": [
    {
     "name": "stdout",
     "output_type": "stream",
     "text": [
      "AUC ROC: 0.8810950009064972\n"
     ]
    }
   ],
   "source": [
    "print(f\"AUC ROC: {ad.AUC_ROC()}\" )"
   ]
  },
  {
   "cell_type": "code",
   "execution_count": 93,
   "id": "d232c4d7",
   "metadata": {},
   "outputs": [
    {
     "data": {
      "image/png": "[encoded data removed]",
      "text/plain": [
       "<Figure size 432x288 with 1 Axes>"
      ]
     },
     "metadata": {},
     "output_type": "display_data"
    }
   ],
   "source": [
    "ad.show_ROC_curve()"
   ]
  },
  {
   "cell_type": "code",
   "execution_count": null,
   "id": "4c292773",
   "metadata": {},
   "outputs": [],
   "source": []
  }
 ],
 "metadata": {
  "kernelspec": {
   "display_name": "Python 3",
   "language": "python",
   "name": "python3"
  },
  "language_info": {
   "codemirror_mode": {
    "name": "ipython",
    "version": 3
   },
   "file_extension": ".py",
   "mimetype": "text/x-python",
   "name": "python",
   "nbconvert_exporter": "python",
   "pygments_lexer": "ipython3",
   "version": "3.8.8"
  }
 },
 "nbformat": 4,
 "nbformat_minor": 5
}
