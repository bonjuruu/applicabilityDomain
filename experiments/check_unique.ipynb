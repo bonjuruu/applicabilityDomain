{
 "cells": [
  {
   "cell_type": "code",
   "execution_count": 1,
   "metadata": {},
   "outputs": [],
   "source": [
    "import os\n",
    "from pathlib import Path\n",
    "\n",
    "import numpy as np\n",
    "import pandas as pd\n",
    "\n",
    "from adad.utils import create_dir"
   ]
  },
  {
   "cell_type": "code",
   "execution_count": 2,
   "metadata": {},
   "outputs": [
    {
     "name": "stdout",
     "output_type": "stream",
     "text": [
      "/home/lukec/workspace/applicabilityDomain\n"
     ]
    }
   ],
   "source": [
    "PATH_ROOT = Path(os.getcwd()).absolute().parent\n",
    "print(PATH_ROOT)"
   ]
  },
  {
   "cell_type": "code",
   "execution_count": 12,
   "metadata": {},
   "outputs": [],
   "source": [
    "def check_unique(data, path, filename=lambda x:  f'{x}_smiles.csv'):\n",
    "    path_data = os.path.join(path, filename(data))\n",
    "    df = pd.read_csv(path_data)\n",
    "    df['smiles'] = df['smiles'].apply(lambda x : x.rstrip().lstrip())\n",
    "    n_samples = len(df)\n",
    "    n_unique = df['smiles'].nunique()\n",
    "    if n_samples != n_unique:\n",
    "        print(f'{data} contains {len(df) - n_unique}/{n_samples} duplicated samples !')\n",
    "    print(f'{data}: {len(df)}')\n"
   ]
  },
  {
   "cell_type": "code",
   "execution_count": 13,
   "metadata": {},
   "outputs": [],
   "source": [
    "DATALIST=(\"Ames\", \"BBBP\", \"Cancer\", \"CYP1A2\", \"hERG\", \"HIV\", \"Liver\")"
   ]
  },
  {
   "cell_type": "code",
   "execution_count": 14,
   "metadata": {},
   "outputs": [
    {
     "name": "stdout",
     "output_type": "stream",
     "text": [
      "Ames: 6512\n",
      "BBBP contains 3/2003 duplicated samples !\n",
      "BBBP: 2003\n",
      "Cancer contains 176/7747 duplicated samples !\n",
      "Cancer: 7747\n",
      "CYP1A2: 7485\n",
      "hERG contains 2/561 duplicated samples !\n",
      "hERG: 561\n",
      "HIV contains 469/40256 duplicated samples !\n",
      "HIV: 40256\n",
      "Liver contains 19/951 duplicated samples !\n",
      "Liver: 951\n"
     ]
    }
   ],
   "source": [
    "path_data = os.path.join(PATH_ROOT, 'unused', 'binary', 'smiles')\n",
    "for d in DATALIST:\n",
    "    check_unique(d, path_data)"
   ]
  },
  {
   "cell_type": "code",
   "execution_count": 43,
   "metadata": {},
   "outputs": [],
   "source": [
    "def remove_duplicates(data, path_output):\n",
    "    create_dir(path_output)\n",
    "    path_data = os.path.join(PATH_ROOT, 'data', 'subsets', 'smiles', f'{data}_smiles.csv')\n",
    "    df = pd.read_csv(path_data)\n",
    "    df['smiles'] = df['smiles'].apply(lambda x: x.lstrip().rstrip())\n",
    "    df = df.drop_duplicates(['smiles'], keep='first', ignore_index=True)\n",
    "    df.to_csv(os.path.join(path_output, f'{data}_smiles.csv'), index=False)"
   ]
  },
  {
   "cell_type": "code",
   "execution_count": 44,
   "metadata": {},
   "outputs": [],
   "source": [
    "path_output = os.path.join(PATH_ROOT, 'data', 'subsets', 'distinct', 'smiles')\n",
    "for d in DATALIST:\n",
    "    remove_duplicates(d, path_output)"
   ]
  },
  {
   "cell_type": "code",
   "execution_count": null,
   "metadata": {},
   "outputs": [],
   "source": []
  }
 ],
 "metadata": {
  "kernelspec": {
   "display_name": "Python 3.8.10 ('adad')",
   "language": "python",
   "name": "python3"
  },
  "language_info": {
   "codemirror_mode": {
    "name": "ipython",
    "version": 3
   },
   "file_extension": ".py",
   "mimetype": "text/x-python",
   "name": "python",
   "nbconvert_exporter": "python",
   "pygments_lexer": "ipython3",
   "version": "3.8.10"
  },
  "orig_nbformat": 4,
  "vscode": {
   "interpreter": {
    "hash": "32470937e9edf2b7d9af0ed876fa250b771cc7b5d28c833a7c021d6de2615914"
   }
  }
 },
 "nbformat": 4,
 "nbformat_minor": 2
}
