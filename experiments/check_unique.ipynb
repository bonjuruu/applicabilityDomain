{
 "cells": [
  {
   "cell_type": "code",
   "execution_count": 42,
   "metadata": {},
   "outputs": [],
   "source": [
    "import os\n",
    "from pathlib import Path\n",
    "\n",
    "import numpy as np\n",
    "import pandas as pd\n",
    "\n",
    "from adad.utils import create_dir"
   ]
  },
  {
   "cell_type": "code",
   "execution_count": 24,
   "metadata": {},
   "outputs": [
    {
     "name": "stdout",
     "output_type": "stream",
     "text": [
      "/home/lukec/workspace/applicabilityDomain\n"
     ]
    }
   ],
   "source": [
    "PATH_ROOT = Path(os.getcwd()).absolute().parent\n",
    "print(PATH_ROOT)"
   ]
  },
  {
   "cell_type": "code",
   "execution_count": 36,
   "metadata": {},
   "outputs": [],
   "source": [
    "def check_unique(data):\n",
    "    path_data = os.path.join(PATH_ROOT, 'data', 'subsets', 'smiles', f'{data}_smiles.csv')\n",
    "    df = pd.read_csv(path_data)\n",
    "    df['smiles'] = df['smiles'].apply(lambda x : x.rstrip().lstrip())\n",
    "    n_samples = len(df)\n",
    "    n_unique = df['smiles'].nunique()\n",
    "    if n_samples != n_unique:\n",
    "        print(f'{data} contains {len(df) - n_unique}/{n_samples} duplicated samples !')\n"
   ]
  },
  {
   "cell_type": "code",
   "execution_count": 37,
   "metadata": {},
   "outputs": [],
   "source": [
    "DATALIST=(\"Ames\", \"BBBP\", \"Cancer\", \"CYP1A2\", \"hERG\", \"HIV\", \"Liver\")"
   ]
  },
  {
   "cell_type": "code",
   "execution_count": 38,
   "metadata": {},
   "outputs": [
    {
     "name": "stdout",
     "output_type": "stream",
     "text": [
      "BBBP contains 3/2003 duplicated samples !\n",
      "Cancer contains 176/7746 duplicated samples !\n",
      "hERG contains 2/561 duplicated samples !\n",
      "HIV contains 469/40256 duplicated samples !\n",
      "Liver contains 17/931 duplicated samples !\n"
     ]
    }
   ],
   "source": [
    "for d in DATALIST:\n",
    "    check_unique(d)"
   ]
  },
  {
   "cell_type": "code",
   "execution_count": 43,
   "metadata": {},
   "outputs": [],
   "source": [
    "def remove_duplicates(data, path_output):\n",
    "    create_dir(path_output)\n",
    "    path_data = os.path.join(PATH_ROOT, 'data', 'subsets', 'smiles', f'{data}_smiles.csv')\n",
    "    df = pd.read_csv(path_data)\n",
    "    df['smiles'] = df['smiles'].apply(lambda x: x.lstrip().rstrip())\n",
    "    df = df.drop_duplicates(['smiles'], keep='first', ignore_index=True)\n",
    "    df.to_csv(os.path.join(path_output, f'{data}_smiles.csv'), index=False)"
   ]
  },
  {
   "cell_type": "code",
   "execution_count": 44,
   "metadata": {},
   "outputs": [],
   "source": [
    "path_output = os.path.join(PATH_ROOT, 'data', 'subsets', 'distinct', 'smiles')\n",
    "for d in DATALIST:\n",
    "    remove_duplicates(d, path_output)"
   ]
  },
  {
   "cell_type": "code",
   "execution_count": null,
   "metadata": {},
   "outputs": [],
   "source": []
  }
 ],
 "metadata": {
  "interpreter": {
   "hash": "016355130b3c16c526f1441741bcbcb9475435ab9822383558c43dece6aac7b7"
  },
  "kernelspec": {
   "display_name": "Python 3.7.5 64-bit ('venv37': venv)",
   "language": "python",
   "name": "python3"
  },
  "language_info": {
   "codemirror_mode": {
    "name": "ipython",
    "version": 3
   },
   "file_extension": ".py",
   "mimetype": "text/x-python",
   "name": "python",
   "nbconvert_exporter": "python",
   "pygments_lexer": "ipython3",
   "version": "3.7.12"
  },
  "orig_nbformat": 4
 },
 "nbformat": 4,
 "nbformat_minor": 2
}
