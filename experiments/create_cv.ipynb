{
 "cells": [
  {
   "cell_type": "code",
   "execution_count": 1,
   "metadata": {},
   "outputs": [],
   "source": [
    "import os\n",
    "from pathlib import Path\n",
    "\n",
    "import numpy as np\n",
    "import pandas as pd\n",
    "from sklearn.model_selection import StratifiedKFold\n",
    "\n",
    "from adad.utils import create_dir"
   ]
  },
  {
   "cell_type": "code",
   "execution_count": 2,
   "metadata": {},
   "outputs": [
    {
     "name": "stdout",
     "output_type": "stream",
     "text": [
      "/home/lukec/workspace/applicabilityDomain\n"
     ]
    }
   ],
   "source": [
    "DATALIST=(\"Ames\", \"BBBP\", \"Cancer\", \"CYP1A2\", \"hERG\", \"HIV\", \"Liver\")\n",
    "PATH_ROOT = Path(os.getcwd()).absolute().parent\n",
    "print(PATH_ROOT)"
   ]
  },
  {
   "cell_type": "code",
   "execution_count": 3,
   "metadata": {},
   "outputs": [],
   "source": [
    "def create_cv(data, path_output, kfold=5):\n",
    "    path_data = os.path.join(PATH_ROOT, 'data', 'smiles', f'{data}_smiles.csv')\n",
    "    df = pd.read_csv(path_data)\n",
    "    X = df['smiles']\n",
    "    y = df['y']\n",
    "\n",
    "    skf = StratifiedKFold(n_splits=kfold, shuffle=True)\n",
    "    train_indices = pd.DataFrame()\n",
    "    test_indices = pd.DataFrame()\n",
    "    for train_index, test_index in skf.split(X, y):\n",
    "        print(len(train_index), len(test_index))\n",
    "        \n",
    "        train_indices = pd.concat([train_indices, pd.DataFrame(train_index)], axis=1)\n",
    "        test_indices = pd.concat([test_indices, pd.DataFrame(test_index)], axis=1)\n",
    "\n",
    "    train_indices = train_indices.astype(pd.Int64Dtype())\n",
    "    test_indices = test_indices.astype(pd.Int64Dtype())\n",
    "    column_names = [f'cv{i}' for i in range(1, 6)]\n",
    "    train_indices.columns = column_names\n",
    "    test_indices.columns = column_names\n",
    "\n",
    "    train_indices.to_csv(os.path.join(path_output, f'{data}_cv_train.csv'), index=False)\n",
    "    test_indices.to_csv(os.path.join(path_output, f'{data}_cv_test.csv'), index=False)"
   ]
  },
  {
   "cell_type": "code",
   "execution_count": 4,
   "metadata": {},
   "outputs": [
    {
     "name": "stdout",
     "output_type": "stream",
     "text": [
      "5204 1302\n",
      "5205 1301\n",
      "5205 1301\n",
      "5205 1301\n",
      "5205 1301\n",
      "1600 400\n",
      "1600 400\n",
      "1600 400\n",
      "1600 400\n",
      "1600 400\n",
      "6056 1514\n",
      "6056 1514\n",
      "6056 1514\n",
      "6056 1514\n",
      "6056 1514\n",
      "5988 1497\n",
      "5988 1497\n",
      "5988 1497\n",
      "5988 1497\n",
      "5988 1497\n",
      "447 112\n",
      "447 112\n",
      "447 112\n",
      "447 112\n",
      "448 111\n",
      "31829 7958\n",
      "31829 7958\n",
      "31830 7957\n",
      "31830 7957\n",
      "31830 7957\n",
      "731 183\n",
      "731 183\n",
      "731 183\n",
      "731 183\n",
      "732 182\n"
     ]
    }
   ],
   "source": [
    "path_output = os.path.join(PATH_ROOT, 'data', 'cv')\n",
    "create_dir(path_output)\n",
    "\n",
    "for d in DATALIST:\n",
    "    create_cv(d, path_output)"
   ]
  },
  {
   "cell_type": "code",
   "execution_count": null,
   "metadata": {},
   "outputs": [],
   "source": []
  }
 ],
 "metadata": {
  "interpreter": {
   "hash": "016355130b3c16c526f1441741bcbcb9475435ab9822383558c43dece6aac7b7"
  },
  "kernelspec": {
   "display_name": "Python 3.7.5 64-bit ('venv37': venv)",
   "language": "python",
   "name": "python3"
  },
  "language_info": {
   "codemirror_mode": {
    "name": "ipython",
    "version": 3
   },
   "file_extension": ".py",
   "mimetype": "text/x-python",
   "name": "python",
   "nbconvert_exporter": "python",
   "pygments_lexer": "ipython3",
   "version": "3.7.12"
  },
  "orig_nbformat": 4
 },
 "nbformat": 4,
 "nbformat_minor": 2
}
