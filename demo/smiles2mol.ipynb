{
 "cells": [
  {
   "cell_type": "code",
   "execution_count": 2,
   "metadata": {},
   "outputs": [],
   "source": [
    "from pathlib import Path\n",
    "import os\n",
    "\n",
    "from rdkit import DataStructs\n",
    "from rdkit import Chem\n",
    "from rdkit.Chem import AllChem\n",
    "import numpy as np\n",
    "import pandas as pd"
   ]
  },
  {
   "cell_type": "code",
   "execution_count": 8,
   "metadata": {},
   "outputs": [
    {
     "name": "stdout",
     "output_type": "stream",
     "text": [
      "<rdkit.Chem.rdchem.Mol object at 0x7f85765e94e0>\n",
      "<rdkit.Chem.rdchem.Mol object at 0x7f85765e9210>\n",
      "<rdkit.Chem.rdchem.Mol object at 0x7f85765e94e0>\n",
      "<rdkit.Chem.rdchem.Mol object at 0x7f85765e9210>\n"
     ]
    }
   ],
   "source": [
    "smiles = [\n",
    "    'c1cccc(c1)n1c(cc(n1)C(F)(F)F)C(=O)Nc1ccc(cc1F)c1c(cccc1)S(=O)(=O)N',\n",
    "    'c1cccc(c1)n1c(cc(n1)C(F)(F)F)C(=O)Nc1ccc(cn1)c1c(cccc1)S(=O)(=O)N',\n",
    "    'c1cccc(c1)n1c(cc(n1)C)C(=O)Nc1ccc(cc1)c1c(cccc1)S(=O)(=O)N',\n",
    "    'c1ccccc1'\n",
    "]\n",
    "for s in smiles:\n",
    "    mol = Chem.MolFromSmiles(s)\n",
    "    print(mol)"
   ]
  },
  {
   "cell_type": "code",
   "execution_count": null,
   "metadata": {},
   "outputs": [],
   "source": []
  }
 ],
 "metadata": {
  "interpreter": {
   "hash": "016355130b3c16c526f1441741bcbcb9475435ab9822383558c43dece6aac7b7"
  },
  "kernelspec": {
   "display_name": "Python 3.7.5 64-bit ('venv37': venv)",
   "language": "python",
   "name": "python3"
  },
  "language_info": {
   "codemirror_mode": {
    "name": "ipython",
    "version": 3
   },
   "file_extension": ".py",
   "mimetype": "text/x-python",
   "name": "python",
   "nbconvert_exporter": "python",
   "pygments_lexer": "ipython3",
   "version": "3.7.12"
  },
  "orig_nbformat": 4
 },
 "nbformat": 4,
 "nbformat_minor": 2
}
