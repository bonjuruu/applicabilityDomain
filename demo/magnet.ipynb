{
 "cells": [
  {
   "cell_type": "code",
   "execution_count": 21,
   "metadata": {},
   "outputs": [],
   "source": [
    "%load_ext autoreload\n",
    "%autoreload 2"
   ]
  },
  {
   "cell_type": "code",
   "execution_count": 1,
   "metadata": {},
   "outputs": [],
   "source": [
    "# Built-in\n",
    "import os\n",
    "import time\n",
    "from pathlib import Path\n",
    "\n",
    "import matplotlib.pyplot as plt\n",
    "# External\n",
    "import numpy as np\n",
    "import pandas as pd\n",
    "import torch\n",
    "import torch.nn as nn\n",
    "import torch.nn.functional as F\n",
    "from torch.utils.data import DataLoader, TensorDataset\n",
    "from tqdm import tqdm\n",
    "\n",
    "# Local\n",
    "from adad.torch_utils import evaluate, train_model\n",
    "from adad.utils import drop_redundant_col, maccs2binary, time2str\n"
   ]
  },
  {
   "cell_type": "code",
   "execution_count": 2,
   "metadata": {},
   "outputs": [
    {
     "name": "stdout",
     "output_type": "stream",
     "text": [
      "/home/lukec/workspace/applicabilityDomain\n"
     ]
    }
   ],
   "source": [
    "PATH_ROOT = Path(os.getcwd()).absolute().parent\n",
    "print(PATH_ROOT)\n"
   ]
  },
  {
   "cell_type": "code",
   "execution_count": 3,
   "metadata": {},
   "outputs": [
    {
     "name": "stdout",
     "output_type": "stream",
     "text": [
      "(5204, 167) (1302, 167)\n",
      "(5204,) (1302,)\n"
     ]
    }
   ],
   "source": [
    "file_smiles = os.path.join(PATH_ROOT, \"data\", \"smiles\", \"Ames_smiles.csv\")\n",
    "df = pd.read_csv(file_smiles)\n",
    "y = df['y'].to_numpy()\n",
    "\n",
    "file_x = os.path.join(PATH_ROOT, \"data\", \"maccs\", \"Ames_maccs.npy\")\n",
    "X = np.load(file_x)\n",
    "\n",
    "file_idx_train = os.path.join(PATH_ROOT, \"data\", \"cv\", \"Ames_cv_train.csv\")\n",
    "file_idx_test = os.path.join(PATH_ROOT, \"data\", \"cv\", \"Ames_cv_test.csv\")\n",
    "idx_train = pd.read_csv(file_idx_train, dtype=pd.Int64Dtype())\n",
    "idx_test = pd.read_csv(file_idx_test, dtype=pd.Int64Dtype())\n",
    "col = idx_train.columns[0]\n",
    "idx_test = idx_test[col].dropna(axis=0).to_numpy().astype(int)\n",
    "idx_train = idx_train[col].dropna(axis=0).to_numpy().astype(int)\n",
    "\n",
    "X_train, X_test = X[idx_train], X[idx_test]\n",
    "y_train, y_test = y[idx_train], y[idx_test]\n",
    "print(X_train.shape, X_test.shape)\n",
    "print(y_train.shape, y_test.shape)"
   ]
  },
  {
   "cell_type": "code",
   "execution_count": 4,
   "metadata": {},
   "outputs": [],
   "source": [
    "BATCH_SIZE = 128\n",
    "MAX_EPOCHS = 300\n",
    "\n",
    "dataset_train = TensorDataset(\n",
    "    torch.from_numpy(X_train).type(torch.float32),\n",
    "    torch.from_numpy(y_train).type(torch.int64),\n",
    ")\n",
    "dataloader_train = DataLoader(dataset_train, batch_size=BATCH_SIZE, shuffle=True)\n",
    "\n",
    "dataset_test = TensorDataset(\n",
    "    torch.from_numpy(X_test).type(torch.float32),\n",
    "    torch.from_numpy(y_test).type(torch.int64),\n",
    ")\n",
    "dataloader_test = DataLoader(dataset_test, batch_size=BATCH_SIZE, shuffle=True)"
   ]
  },
  {
   "cell_type": "code",
   "execution_count": 5,
   "metadata": {},
   "outputs": [],
   "source": [
    "if torch.cuda.is_available():\n",
    "    device = torch.device('cuda')\n",
    "else:\n",
    "    device = torch.device('cpu')\n",
    "    print('Running on CPU!')"
   ]
  },
  {
   "cell_type": "code",
   "execution_count": 6,
   "metadata": {},
   "outputs": [],
   "source": [
    "# class AutoEncoder(nn.Module):\n",
    "#     def __init__(self, n_output=N_OUTPUT):\n",
    "#         super().__init__()\n",
    "\n",
    "#         self.encoder = nn.Sequential(\n",
    "#             nn.Linear(167, 128),\n",
    "#             nn.ReLU(),\n",
    "#             nn.Linear(128, 64),\n",
    "#             nn.ReLU(),\n",
    "#             nn.Linear(64, n_output),\n",
    "#         )\n",
    "\n",
    "#         self.decoder = nn.Sequential(\n",
    "#             nn.Linear(n_output, 64),\n",
    "#             nn.ReLU(),\n",
    "#             nn.Linear(64, 128),\n",
    "#             nn.ReLU(),\n",
    "#             nn.Linear(128, 167),\n",
    "#             nn.Sigmoid(),\n",
    "#         )\n",
    "\n",
    "#     def forward(self, x):\n",
    "#         x = self.encoder(x)\n",
    "#         x = self.decoder(x)\n",
    "#         return x"
   ]
  },
  {
   "cell_type": "code",
   "execution_count": 7,
   "metadata": {},
   "outputs": [
    {
     "name": "stdout",
     "output_type": "stream",
     "text": [
      "torch.Size([128, 167])\n",
      "torch.Size([128, 167])\n"
     ]
    }
   ],
   "source": [
    "N_OUTPUT = 16\n",
    "\n",
    "class Reshape(nn.Module):\n",
    "    def __init__(self, n_channels):\n",
    "        super().__init__()\n",
    "        self.n_channels = n_channels\n",
    "    \n",
    "    def forward(self, x):\n",
    "        x = torch.reshape(x, (x.size(0), self.n_channels, -1))\n",
    "        return x\n",
    "\n",
    "\n",
    "class AutoEncoder(nn.Module):\n",
    "    def __init__(self):\n",
    "        super().__init__()\n",
    "\n",
    "        self.encoder = nn.Sequential(\n",
    "            Reshape(1),\n",
    "            nn.Conv1d(1, 16, kernel_size=3, stride=2),\n",
    "            nn.ReLU(),\n",
    "            nn.Conv1d(16, 32, kernel_size=3, stride=2),\n",
    "            nn.ReLU(),\n",
    "            nn.Flatten(1),\n",
    "            nn.Linear(1312, 128),\n",
    "            nn.ReLU(),\n",
    "            nn.Linear(128, N_OUTPUT),\n",
    "        )\n",
    "\n",
    "        self.decoder = nn.Sequential(\n",
    "            nn.Linear(N_OUTPUT, 128),\n",
    "            nn.ReLU(),\n",
    "            nn.Linear(128, 1312),\n",
    "            nn.ReLU(),\n",
    "            Reshape(32),\n",
    "            nn.ConvTranspose1d(32, 16, kernel_size=3, stride=2),\n",
    "            nn.ReLU(),\n",
    "            nn.ConvTranspose1d(16, 1, kernel_size=3, stride=2),\n",
    "            nn.Sigmoid(),\n",
    "            nn.Flatten(1),\n",
    "        )\n",
    "\n",
    "    def forward(self, x):\n",
    "        x = self.encoder(x)\n",
    "        x = self.decoder(x)\n",
    "        return x\n",
    "\n",
    "\n",
    "ae = AutoEncoder()\n",
    "it = iter(dataloader_train)\n",
    "x, y = it.next()\n",
    "print(x.size())\n",
    "output = ae(x)\n",
    "print(output.size())"
   ]
  },
  {
   "cell_type": "code",
   "execution_count": 8,
   "metadata": {},
   "outputs": [],
   "source": [
    "def train(dataloader, model, loss_fn, optimizer, device):\n",
    "    n = len(dataloader.dataset)\n",
    "    n_batches = len(dataloader)\n",
    "    loss_avg = 0\n",
    "\n",
    "    model.train()\n",
    "    for X, _ in dataloader:\n",
    "        X = X.to(device)\n",
    "\n",
    "        optimizer.zero_grad()\n",
    "        output = model(X)\n",
    "        loss = loss_fn(output, X)\n",
    "        loss.backward()\n",
    "        optimizer.step()\n",
    "\n",
    "        loss_avg += loss.item()\n",
    "\n",
    "    loss_avg /= n_batches\n",
    "    return loss_avg\n",
    "\n",
    "\n",
    "def evaluate(dataloader, model, loss_fn, device):\n",
    "    n = len(dataloader.dataset)\n",
    "    n_batches = len(dataloader)\n",
    "    loss_avg = 0\n",
    "\n",
    "    model.eval()\n",
    "    with torch.no_grad():\n",
    "        for X, _ in dataloader:\n",
    "            X = X.to(device)\n",
    "            output = model(X)\n",
    "            loss_avg += loss_fn(output, X).item()\n",
    "\n",
    "    loss_avg /= n_batches\n",
    "    return loss_avg"
   ]
  },
  {
   "cell_type": "code",
   "execution_count": 9,
   "metadata": {},
   "outputs": [],
   "source": [
    "model = AutoEncoder().to(device)\n",
    "loss_fn = nn.MSELoss()\n",
    "optimizer = torch.optim.AdamW(model.parameters(), lr=1e-4, weight_decay=1e-3)"
   ]
  },
  {
   "cell_type": "code",
   "execution_count": 10,
   "metadata": {},
   "outputs": [
    {
     "name": "stdout",
     "output_type": "stream",
     "text": [
      "[  0] Loss train: 0.236 test: 0.223\n",
      "[  1] Loss train: 0.193 test: 0.154\n",
      "[  2] Loss train: 0.133 test: 0.125\n",
      "[  3] Loss train: 0.122 test: 0.122\n",
      "[  4] Loss train: 0.120 test: 0.120\n",
      "[  5] Loss train: 0.119 test: 0.120\n",
      "[  6] Loss train: 0.118 test: 0.119\n",
      "[  7] Loss train: 0.117 test: 0.117\n",
      "[  8] Loss train: 0.116 test: 0.116\n",
      "[  9] Loss train: 0.115 test: 0.114\n",
      "Train 0.011 Test 0.016\n"
     ]
    }
   ],
   "source": [
    "MAX_EPOCHS = 200\n",
    "\n",
    "losses_tr = []\n",
    "losses_te = []\n",
    "\n",
    "# for e in tqdm(range(MAX_EPOCHS)):\n",
    "for e in range(MAX_EPOCHS):\n",
    "    loss_tr = train(dataloader_train, model, loss_fn, optimizer, device)\n",
    "    loss_te = evaluate(dataloader_test, model, loss_fn, device)\n",
    "\n",
    "    losses_tr.append(loss_tr)\n",
    "    losses_te.append(loss_te)\n",
    "\n",
    "    if e // 10 == 0:\n",
    "        print(f'[{e:3d}] Loss train: {loss_tr:.3f} test: {loss_te:.3f}')\n",
    "print(f'Train {loss_tr:.3f} Test {loss_te:.3f}')"
   ]
  },
  {
   "cell_type": "code",
   "execution_count": 11,
   "metadata": {},
   "outputs": [
    {
     "data": {
      "image/png": "[encoded data removed]",
      "text/plain": [
       "<Figure size 720x432 with 1 Axes>"
      ]
     },
     "metadata": {
      "needs_background": "light"
     },
     "output_type": "display_data"
    }
   ],
   "source": [
    "plt.figure(figsize=(10, 6))\n",
    "plt.xlabel('Epoch')\n",
    "plt.ylabel('MSE Loss')\n",
    "plt.plot(losses_tr, label='Train')\n",
    "plt.plot(losses_te, label='Test')\n",
    "plt.legend()\n",
    "plt.show()"
   ]
  },
  {
   "cell_type": "code",
   "execution_count": 12,
   "metadata": {},
   "outputs": [],
   "source": [
    "def encode(X, model, n_outputs, batch_size=256):\n",
    "    n = X.shape[0]\n",
    "    dataset = TensorDataset(torch.from_numpy(X).type(torch.float32))\n",
    "    dataloader = DataLoader(dataset, batch_size=batch_size, shuffle=False)\n",
    "    X_encoded = np.empty((n, n_outputs), dtype=np.float32)\n",
    "    start = 0\n",
    "    model.eval()\n",
    "    with torch.no_grad():\n",
    "        for [X] in dataloader:\n",
    "            X = X.to(device)\n",
    "            output = model.encoder(X).detach().cpu().numpy()\n",
    "            end = start + X.size(0)\n",
    "            X_encoded[start: end] = output\n",
    "            start = end\n",
    "    return X_encoded\n"
   ]
  },
  {
   "cell_type": "code",
   "execution_count": 13,
   "metadata": {},
   "outputs": [],
   "source": [
    "def encodedecode(X, model, batch_size=256):\n",
    "    dataset = TensorDataset(torch.from_numpy(X).type(torch.float32))\n",
    "    dataloader = DataLoader(dataset, batch_size=batch_size, shuffle=False)\n",
    "    X_processed = np.empty_like(X)\n",
    "    start = 0\n",
    "    model.eval()\n",
    "    with torch.no_grad():\n",
    "        for [X] in dataloader:\n",
    "            X = X.to(device)\n",
    "            output = model(X).detach().cpu().numpy()\n",
    "            end = start + X.size(0)\n",
    "            X_processed[start: end] = output\n",
    "            start = end\n",
    "    return X_processed"
   ]
  },
  {
   "cell_type": "code",
   "execution_count": 14,
   "metadata": {},
   "outputs": [
    {
     "name": "stdout",
     "output_type": "stream",
     "text": [
      "(5204, 16) (1302, 16)\n"
     ]
    }
   ],
   "source": [
    "X_encode_tr = encode(X_train, model, N_OUTPUT)\n",
    "X_encode_te = encode(X_test, model, N_OUTPUT)\n",
    "print(X_encode_tr.shape, X_encode_te.shape)"
   ]
  },
  {
   "cell_type": "code",
   "execution_count": 15,
   "metadata": {},
   "outputs": [
    {
     "name": "stdout",
     "output_type": "stream",
     "text": [
      "(5204, 167) (1302, 167)\n"
     ]
    }
   ],
   "source": [
    "X_process_tr = encodedecode(X_train, model)\n",
    "X_process_te = encodedecode(X_test, model)\n",
    "print(X_process_tr.shape, X_process_te.shape)"
   ]
  },
  {
   "cell_type": "code",
   "execution_count": 16,
   "metadata": {},
   "outputs": [
    {
     "name": "stdout",
     "output_type": "stream",
     "text": [
      "Accuracy train: 93.97% test: 81.57%\n"
     ]
    }
   ],
   "source": [
    "from sklearn.svm import SVC\n",
    "\n",
    "clf = SVC(C=10)\n",
    "clf.fit(X_train, y_train)\n",
    "\n",
    "acc_train = clf.score(X_train, y_train)\n",
    "acc_test = clf.score(X_test, y_test)\n",
    "print(f'Accuracy train: {acc_train*100:.2f}% test: {acc_test*100:.2f}%')"
   ]
  },
  {
   "cell_type": "code",
   "execution_count": 17,
   "metadata": {},
   "outputs": [
    {
     "name": "stdout",
     "output_type": "stream",
     "text": [
      "Accuracy train: 77.40% test: 74.96%\n"
     ]
    }
   ],
   "source": [
    "clf = SVC(C=10)\n",
    "clf.fit(X_encode_tr, y_train)\n",
    "\n",
    "acc_train = clf.score(X_encode_tr, y_train)\n",
    "acc_test = clf.score(X_encode_te, y_test)\n",
    "print(f'Accuracy train: {acc_train*100:.2f}% test: {acc_test*100:.2f}%')"
   ]
  },
  {
   "cell_type": "code",
   "execution_count": 18,
   "metadata": {},
   "outputs": [
    {
     "name": "stdout",
     "output_type": "stream",
     "text": [
      "Accuracy train: 83.21% test: 73.50%\n"
     ]
    }
   ],
   "source": [
    "clf = SVC(C=10)\n",
    "clf.fit(X_process_tr, y_train)\n",
    "\n",
    "acc_train = clf.score(X_process_tr, y_train)\n",
    "acc_test = clf.score(X_process_te, y_test)\n",
    "print(f'Accuracy train: {acc_train*100:.2f}% test: {acc_test*100:.2f}%')"
   ]
  },
  {
   "cell_type": "code",
   "execution_count": null,
   "metadata": {},
   "outputs": [],
   "source": []
  }
 ],
 "metadata": {
  "interpreter": {
   "hash": "9b82a9d8d0183ad4357118c9b46c3af9838222304dccc02f146cc040e179c913"
  },
  "kernelspec": {
   "display_name": "Python 3.8.10 64-bit ('venv': venv)",
   "language": "python",
   "name": "python3"
  },
  "language_info": {
   "codemirror_mode": {
    "name": "ipython",
    "version": 3
   },
   "file_extension": ".py",
   "mimetype": "text/x-python",
   "name": "python",
   "nbconvert_exporter": "python",
   "pygments_lexer": "ipython3",
   "version": "3.8.10"
  },
  "orig_nbformat": 4
 },
 "nbformat": 4,
 "nbformat_minor": 2
}
