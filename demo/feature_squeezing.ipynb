{
 "cells": [
  {
   "cell_type": "code",
   "execution_count": 1,
   "metadata": {},
   "outputs": [],
   "source": [
    "%load_ext autoreload\n",
    "%autoreload 2"
   ]
  },
  {
   "cell_type": "code",
   "execution_count": 2,
   "metadata": {},
   "outputs": [],
   "source": [
    "# Built-in\n",
    "import os\n",
    "from pathlib import Path\n",
    "import time\n",
    "\n",
    "# External\n",
    "import numpy as np\n",
    "import pandas as pd\n",
    "from sklearn.ensemble import RandomForestClassifier"
   ]
  },
  {
   "cell_type": "code",
   "execution_count": 3,
   "metadata": {},
   "outputs": [
    {
     "name": "stdout",
     "output_type": "stream",
     "text": [
      "/home/lukec/workspace/applicabilityDomain\n"
     ]
    }
   ],
   "source": [
    "PATH_ROOT = Path(os.getcwd()).absolute().parent\n",
    "print(PATH_ROOT)"
   ]
  },
  {
   "cell_type": "code",
   "execution_count": 4,
   "metadata": {},
   "outputs": [
    {
     "name": "stdout",
     "output_type": "stream",
     "text": [
      "6506\n"
     ]
    }
   ],
   "source": [
    "file_idx_train = os.path.join(PATH_ROOT, \"data\", \"cv\", \"Ames_cv_train.csv\")\n",
    "file_idx_test = os.path.join(PATH_ROOT, \"data\", \"cv\", \"Ames_cv_test.csv\")\n",
    "\n",
    "idx_train = pd.read_csv(file_idx_train, dtype=pd.Int64Dtype())\n",
    "idx_test = pd.read_csv(file_idx_test, dtype=pd.Int64Dtype())\n",
    "\n",
    "# Selecting only 1 CV set\n",
    "col = idx_train.columns[0]\n",
    "idx_test = idx_test[col].dropna(axis=0).to_numpy().astype(int)\n",
    "idx_train = idx_train[col].dropna(axis=0).to_numpy().astype(int)\n",
    "\n",
    "print(len(idx_test) + len(idx_train))"
   ]
  },
  {
   "cell_type": "code",
   "execution_count": 5,
   "metadata": {},
   "outputs": [
    {
     "name": "stdout",
     "output_type": "stream",
     "text": [
      "(6506,)\n"
     ]
    }
   ],
   "source": [
    "# Load labels\n",
    "file_smiles = os.path.join(PATH_ROOT, \"data\", \"smiles\", \"Ames_smiles.csv\")\n",
    "df = pd.read_csv(file_smiles)\n",
    "y = df['y'].to_numpy()\n",
    "\n",
    "print(y.shape)"
   ]
  },
  {
   "cell_type": "code",
   "execution_count": 6,
   "metadata": {},
   "outputs": [
    {
     "name": "stdout",
     "output_type": "stream",
     "text": [
      "maccs: (6506, 167)\n"
     ]
    }
   ],
   "source": [
    "# Load data\n",
    "X = {}\n",
    "file_maccs = os.path.join(PATH_ROOT, \"data\", \"maccs\", \"Ames_maccs.npy\")\n",
    "X['maccs'] = np.load(file_maccs)\n",
    "print('maccs:', X['maccs'].shape)"
   ]
  },
  {
   "cell_type": "code",
   "execution_count": 7,
   "metadata": {},
   "outputs": [
    {
     "name": "stdout",
     "output_type": "stream",
     "text": [
      "cddd: (6506, 512)\n"
     ]
    }
   ],
   "source": [
    "file_cddd = os.path.join(PATH_ROOT, \"data\", \"cddd\", \"Ames_cddd.npy\")\n",
    "X['cddd'] = np.load(file_cddd)\n",
    "print('cddd:', X['cddd'].shape)"
   ]
  },
  {
   "cell_type": "code",
   "execution_count": 8,
   "metadata": {},
   "outputs": [
    {
     "name": "stdout",
     "output_type": "stream",
     "text": [
      "ecfp: (6506, 1024)\n"
     ]
    }
   ],
   "source": [
    "file_ecfp = os.path.join(PATH_ROOT, \"data\", \"ecfp\", \"Ames_ecfp.npy\")\n",
    "X['ecfp'] = np.load(file_ecfp)\n",
    "print('ecfp:', X['ecfp'].shape)"
   ]
  },
  {
   "cell_type": "code",
   "execution_count": 9,
   "metadata": {},
   "outputs": [
    {
     "name": "stdout",
     "output_type": "stream",
     "text": [
      "rdkit: (6506, 2048)\n"
     ]
    }
   ],
   "source": [
    "file_rdkit = os.path.join(PATH_ROOT, \"data\", \"rdkit\", \"Ames_rdkit.npy\")\n",
    "X['rdkit'] = np.load(file_rdkit)\n",
    "print('rdkit:', X['rdkit'].shape)"
   ]
  },
  {
   "cell_type": "code",
   "execution_count": 10,
   "metadata": {},
   "outputs": [],
   "source": [
    "DESCRIPTORS = ['maccs', 'cddd', 'ecfp', 'rdkit']\n",
    "Xs_train, Xs_test = [], []\n",
    "\n",
    "for des in DESCRIPTORS:\n",
    "    Xs_train.append(X[des][idx_train])\n",
    "    Xs_test.append(X[des][idx_test])\n",
    "\n",
    "y_train = y[idx_train]\n",
    "y_test = y[idx_test]"
   ]
  },
  {
   "cell_type": "code",
   "execution_count": 11,
   "metadata": {},
   "outputs": [
    {
     "name": "stdout",
     "output_type": "stream",
     "text": [
      "Train score: 97.77%\n",
      "Test score: 79.57%\n"
     ]
    }
   ],
   "source": [
    "clf = RandomForestClassifier(n_estimators=200)\n",
    "clf.fit(Xs_train[0], y_train)\n",
    "acc_train = clf.score(Xs_train[0], y_train)\n",
    "print(f'Train score: {acc_train * 100:.2f}%')\n",
    "acc_test = clf.score(Xs_test[0], y_test)\n",
    "print(f'Test score: {acc_test * 100:.2f}%')\n"
   ]
  },
  {
   "cell_type": "code",
   "execution_count": 12,
   "metadata": {},
   "outputs": [],
   "source": [
    "from adad.adversarial.feature_squeezing import SklearnFeatureSqueezing"
   ]
  },
  {
   "cell_type": "code",
   "execution_count": 13,
   "metadata": {},
   "outputs": [],
   "source": [
    "# Each classifier has its own parameters\n",
    "clf_params = [{'n_estimators':200}] * (len(DESCRIPTORS)-1)\n",
    "fs = SklearnFeatureSqueezing(clf, RandomForestClassifier, len(DESCRIPTORS)-1, clf_params)\n",
    "fs.fit(Xs_train[1:], y=y_train)"
   ]
  },
  {
   "cell_type": "code",
   "execution_count": 14,
   "metadata": {},
   "outputs": [],
   "source": [
    "dm = fs.measure(Xs_test[0], Xs_test[1:])"
   ]
  },
  {
   "cell_type": "code",
   "execution_count": 15,
   "metadata": {},
   "outputs": [
    {
     "data": {
      "image/png": "[encoded data removed]",
      "text/plain": [
       "<Figure size 360x360 with 1 Axes>"
      ]
     },
     "metadata": {
      "needs_background": "light"
     },
     "output_type": "display_data"
    }
   ],
   "source": [
    "import matplotlib.pyplot as plt\n",
    "import seaborn as sns\n",
    "\n",
    "sns.displot(dm, stat='probability')\n",
    "plt.show()"
   ]
  },
  {
   "cell_type": "code",
   "execution_count": 16,
   "metadata": {},
   "outputs": [],
   "source": [
    "from sklearn.metrics import auc, RocCurveDisplay\n",
    "\n",
    "from adad.evaluate import permutation_auc, roc_ad"
   ]
  },
  {
   "cell_type": "code",
   "execution_count": 17,
   "metadata": {},
   "outputs": [],
   "source": [
    "dm = 1. / (dm + 1e-6)"
   ]
  },
  {
   "cell_type": "code",
   "execution_count": 18,
   "metadata": {},
   "outputs": [
    {
     "name": "stdout",
     "output_type": "stream",
     "text": [
      "0.5403725676317038\n"
     ]
    }
   ],
   "source": [
    "\n",
    "y_pred = clf.predict(Xs_test[0])\n",
    "perm_auc, _ = permutation_auc(y_test, y_pred, dm)\n",
    "print(perm_auc)"
   ]
  },
  {
   "cell_type": "code",
   "execution_count": 19,
   "metadata": {},
   "outputs": [],
   "source": [
    "fpr, tpr = roc_ad(y_test, y_pred, dm)\n",
    "roc_auc = auc(fpr, tpr)"
   ]
  },
  {
   "cell_type": "code",
   "execution_count": 20,
   "metadata": {},
   "outputs": [
    {
     "data": {
      "image/png": "[encoded data removed]",
      "text/plain": [
       "<Figure size 432x288 with 1 Axes>"
      ]
     },
     "metadata": {
      "needs_background": "light"
     },
     "output_type": "display_data"
    }
   ],
   "source": [
    "display = RocCurveDisplay(fpr=fpr, tpr=tpr, roc_auc=roc_auc)\n",
    "display.plot()\n",
    "plt.show()"
   ]
  },
  {
   "cell_type": "code",
   "execution_count": null,
   "metadata": {},
   "outputs": [],
   "source": []
  }
 ],
 "metadata": {
  "interpreter": {
   "hash": "9b82a9d8d0183ad4357118c9b46c3af9838222304dccc02f146cc040e179c913"
  },
  "kernelspec": {
   "display_name": "Python 3.8.10 64-bit ('venv': venv)",
   "language": "python",
   "name": "python3"
  },
  "language_info": {
   "codemirror_mode": {
    "name": "ipython",
    "version": 3
   },
   "file_extension": ".py",
   "mimetype": "text/x-python",
   "name": "python",
   "nbconvert_exporter": "python",
   "pygments_lexer": "ipython3",
   "version": "3.8.10"
  },
  "orig_nbformat": 4
 },
 "nbformat": 4,
 "nbformat_minor": 2
}
