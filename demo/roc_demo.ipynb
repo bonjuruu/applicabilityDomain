{
 "cells": [
  {
   "cell_type": "markdown",
   "metadata": {},
   "source": [
    "# An Example of ROC Curves on Multiple Methods"
   ]
  },
  {
   "cell_type": "code",
   "execution_count": 1,
   "metadata": {},
   "outputs": [],
   "source": [
    "%load_ext lab_black"
   ]
  },
  {
   "cell_type": "code",
   "execution_count": 2,
   "metadata": {},
   "outputs": [],
   "source": [
    "import numpy as np\n",
    "import sklearn.metrics as met\n",
    "from sklearn import datasets\n",
    "from sklearn.model_selection import train_test_split\n",
    "from sklearn.svm import SVC\n",
    "import matplotlib.pyplot as plt"
   ]
  },
  {
   "cell_type": "code",
   "execution_count": 3,
   "metadata": {},
   "outputs": [],
   "source": [
    "RANDOM_STATE = 1234\n",
    "N_SAMPLES = 1000\n",
    "plt.rcParams[\"font.size\"] = 14"
   ]
  },
  {
   "cell_type": "code",
   "execution_count": 4,
   "metadata": {},
   "outputs": [],
   "source": [
    "X, y = datasets.make_classification(\n",
    "    n_samples=N_SAMPLES, n_classes=2, random_state=RANDOM_STATE\n",
    ")\n",
    "X_train, X_test, y_train, y_test = train_test_split(X, y, random_state=RANDOM_STATE)\n",
    "\n",
    "clf = SVC(probability=True, random_state=RANDOM_STATE)\n",
    "clf.fit(X_train, y_train)\n",
    "prob = clf.predict_proba(X_test)\n",
    "prob_c1 = prob[:, 1]"
   ]
  },
  {
   "cell_type": "code",
   "execution_count": 5,
   "metadata": {},
   "outputs": [],
   "source": [
    "fpr1, tpr1, _ = met.roc_curve(y_test, prob_c1)\n",
    "roc_auc1 = met.auc(fpr1, tpr1)"
   ]
  },
  {
   "cell_type": "code",
   "execution_count": 6,
   "metadata": {},
   "outputs": [
    {
     "name": "stdout",
     "output_type": "stream",
     "text": [
      "(24,)\n",
      "[0.    0.    0.    0.008 0.008 0.016 0.016 0.024 0.024 0.04  0.04  0.056\n",
      " 0.056 0.08  0.08  0.104 0.104 0.112 0.112 0.344 0.344 0.544 0.544 1.   ]\n"
     ]
    }
   ],
   "source": [
    "# Note that the length of this list can be any value within {2, ..., n}\n",
    "print(fpr1.shape)\n",
    "print(fpr1)"
   ]
  },
  {
   "cell_type": "code",
   "execution_count": 7,
   "metadata": {},
   "outputs": [
    {
     "name": "stdout",
     "output_type": "stream",
     "text": [
      "(24,)\n",
      "[0.    0.008 0.392 0.392 0.88  0.88  0.888 0.888 0.904 0.904 0.912 0.912\n",
      " 0.928 0.928 0.944 0.944 0.968 0.968 0.984 0.984 0.992 0.992 1.    1.   ]\n"
     ]
    }
   ],
   "source": [
    "print(tpr1.shape)\n",
    "print(tpr1)"
   ]
  },
  {
   "cell_type": "code",
   "execution_count": 8,
   "metadata": {},
   "outputs": [],
   "source": [
    "# To simulate another result\n",
    "fpr2 = np.array([0.0, 0.2, 1.0])\n",
    "tpr2 = 0.8 * np.ones_like(fpr2)\n",
    "roc_auc2 = met.auc(fpr2, tpr2)"
   ]
  },
  {
   "cell_type": "code",
   "execution_count": 9,
   "metadata": {},
   "outputs": [
    {
     "data": {
      "image/png": "[encoded data removed]",
      "text/plain": [
       "<Figure size 432x432 with 1 Axes>"
      ]
     },
     "metadata": {
      "needs_background": "light"
     },
     "output_type": "display_data"
    }
   ],
   "source": [
    "fig, ax = plt.subplots(figsize=(6, 6))\n",
    "met.RocCurveDisplay(\n",
    "    fpr=fpr1, tpr=tpr1, roc_auc=roc_auc1, estimator_name=\"Method1\"\n",
    ").plot(ax=ax)\n",
    "met.RocCurveDisplay(\n",
    "    fpr=fpr2, tpr=tpr2, roc_auc=roc_auc1, estimator_name=\"Method2\"\n",
    ").plot(ax=ax)\n",
    "ax.tick_params(labelsize=14)\n",
    "plt.tight_layout()\n",
    "plt.show()"
   ]
  },
  {
   "cell_type": "code",
   "execution_count": null,
   "metadata": {},
   "outputs": [],
   "source": []
  }
 ],
 "metadata": {
  "interpreter": {
   "hash": "016355130b3c16c526f1441741bcbcb9475435ab9822383558c43dece6aac7b7"
  },
  "kernelspec": {
   "display_name": "Python 3.7.5 64-bit ('venv37': venv)",
   "language": "python",
   "name": "python3"
  },
  "language_info": {
   "codemirror_mode": {
    "name": "ipython",
    "version": 3
   },
   "file_extension": ".py",
   "mimetype": "text/x-python",
   "name": "python",
   "nbconvert_exporter": "python",
   "pygments_lexer": "ipython3",
   "version": "3.7.5"
  },
  "orig_nbformat": 4
 },
 "nbformat": 4,
 "nbformat_minor": 2
}
