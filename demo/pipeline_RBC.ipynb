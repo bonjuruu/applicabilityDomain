{
 "cells": [
  {
   "cell_type": "markdown",
   "metadata": {},
   "source": [
    "# Full pipeline for Region-Based Classifier"
   ]
  },
  {
   "cell_type": "code",
   "execution_count": 1,
   "metadata": {},
   "outputs": [],
   "source": [
    "%load_ext autoreload\n",
    "%autoreload 2"
   ]
  },
  {
   "cell_type": "code",
   "execution_count": 2,
   "metadata": {},
   "outputs": [],
   "source": [
    "# Built-in\n",
    "import os\n",
    "from pathlib import Path\n",
    "\n",
    "# External\n",
    "import matplotlib.pyplot as plt\n",
    "import numpy as np\n",
    "import pandas as pd\n",
    "from sklearn.ensemble import RandomForestClassifier\n",
    "from sklearn.metrics import RocCurveDisplay, auc\n",
    "from sklearn.preprocessing import StandardScaler\n",
    "\n",
    "# Local\n",
    "from adad.distance import DAIndexDelta, DAIndexGamma, DAIndexKappa\n",
    "from adad.evaluate import (cumulative_accuracy, permutation_auc,\n",
    "                           predictiveness_curves, roc_ad,\n",
    "                           sensitivity_specificity)\n",
    "from adad.utils import category2code, drop_redundant_col, maccs2binary\n"
   ]
  },
  {
   "cell_type": "code",
   "execution_count": 3,
   "metadata": {},
   "outputs": [],
   "source": [
    "plt.rcParams[\"font.size\"] = 16"
   ]
  },
  {
   "cell_type": "code",
   "execution_count": 4,
   "metadata": {},
   "outputs": [
    {
     "name": "stdout",
     "output_type": "stream",
     "text": [
      "/home/lukec/workspace/applicabilityDomain\n"
     ]
    }
   ],
   "source": [
    "# Step 1: Load data\n",
    "PATH_ROOT = Path(os.getcwd()).absolute().parent\n",
    "print(PATH_ROOT)\n",
    "\n",
    "file_data = os.path.join(PATH_ROOT, \"data\", \"maccs\", \"Ames_MACCS.csv\")\n",
    "file_idx_train = os.path.join(PATH_ROOT, \"experiments\", \"cv_indices\", \"Ames_cv_train.csv\")\n",
    "file_idx_test = os.path.join(PATH_ROOT, \"experiments\", \"cv_indices\", \"Ames_cv_test.csv\")"
   ]
  },
  {
   "cell_type": "code",
   "execution_count": 5,
   "metadata": {},
   "outputs": [
    {
     "data": {
      "text/html": [
       "<div>\n",
       "<style scoped>\n",
       "    .dataframe tbody tr th:only-of-type {\n",
       "        vertical-align: middle;\n",
       "    }\n",
       "\n",
       "    .dataframe tbody tr th {\n",
       "        vertical-align: top;\n",
       "    }\n",
       "\n",
       "    .dataframe thead th {\n",
       "        text-align: right;\n",
       "    }\n",
       "</style>\n",
       "<table border=\"1\" class=\"dataframe\">\n",
       "  <thead>\n",
       "    <tr style=\"text-align: right;\">\n",
       "      <th></th>\n",
       "      <th>cv1</th>\n",
       "      <th>cv2</th>\n",
       "      <th>cv3</th>\n",
       "      <th>cv4</th>\n",
       "      <th>cv5</th>\n",
       "    </tr>\n",
       "  </thead>\n",
       "  <tbody>\n",
       "    <tr>\n",
       "      <th>5523</th>\n",
       "      <td>6476</td>\n",
       "      <td>6477</td>\n",
       "      <td>6476</td>\n",
       "      <td>6489</td>\n",
       "      <td>6502</td>\n",
       "    </tr>\n",
       "    <tr>\n",
       "      <th>5524</th>\n",
       "      <td>6477</td>\n",
       "      <td>6479</td>\n",
       "      <td>6477</td>\n",
       "      <td>6492</td>\n",
       "      <td>6508</td>\n",
       "    </tr>\n",
       "    <tr>\n",
       "      <th>5525</th>\n",
       "      <td>6479</td>\n",
       "      <td>6489</td>\n",
       "      <td>6479</td>\n",
       "      <td>&lt;NA&gt;</td>\n",
       "      <td>&lt;NA&gt;</td>\n",
       "    </tr>\n",
       "    <tr>\n",
       "      <th>5526</th>\n",
       "      <td>6489</td>\n",
       "      <td>6492</td>\n",
       "      <td>6489</td>\n",
       "      <td>&lt;NA&gt;</td>\n",
       "      <td>&lt;NA&gt;</td>\n",
       "    </tr>\n",
       "    <tr>\n",
       "      <th>5527</th>\n",
       "      <td>6492</td>\n",
       "      <td>&lt;NA&gt;</td>\n",
       "      <td>6492</td>\n",
       "      <td>&lt;NA&gt;</td>\n",
       "      <td>&lt;NA&gt;</td>\n",
       "    </tr>\n",
       "  </tbody>\n",
       "</table>\n",
       "</div>"
      ],
      "text/plain": [
       "       cv1   cv2   cv3   cv4   cv5\n",
       "5523  6476  6477  6476  6489  6502\n",
       "5524  6477  6479  6477  6492  6508\n",
       "5525  6479  6489  6479  <NA>  <NA>\n",
       "5526  6489  6492  6489  <NA>  <NA>\n",
       "5527  6492  <NA>  6492  <NA>  <NA>"
      ]
     },
     "execution_count": 5,
     "metadata": {},
     "output_type": "execute_result"
    }
   ],
   "source": [
    "idx_train = pd.read_csv(file_idx_train, dtype=pd.Int64Dtype())\n",
    "idx_train.iloc[-5:]"
   ]
  },
  {
   "cell_type": "code",
   "execution_count": 6,
   "metadata": {},
   "outputs": [
    {
     "data": {
      "text/html": [
       "<div>\n",
       "<style scoped>\n",
       "    .dataframe tbody tr th:only-of-type {\n",
       "        vertical-align: middle;\n",
       "    }\n",
       "\n",
       "    .dataframe tbody tr th {\n",
       "        vertical-align: top;\n",
       "    }\n",
       "\n",
       "    .dataframe thead th {\n",
       "        text-align: right;\n",
       "    }\n",
       "</style>\n",
       "<table border=\"1\" class=\"dataframe\">\n",
       "  <thead>\n",
       "    <tr style=\"text-align: right;\">\n",
       "      <th></th>\n",
       "      <th>cv1</th>\n",
       "      <th>cv2</th>\n",
       "      <th>cv3</th>\n",
       "      <th>cv4</th>\n",
       "      <th>cv5</th>\n",
       "    </tr>\n",
       "  </thead>\n",
       "  <tbody>\n",
       "    <tr>\n",
       "      <th>982</th>\n",
       "      <td>6497</td>\n",
       "      <td>6504</td>\n",
       "      <td>6494</td>\n",
       "      <td>6471</td>\n",
       "      <td>6476</td>\n",
       "    </tr>\n",
       "    <tr>\n",
       "      <th>983</th>\n",
       "      <td>6498</td>\n",
       "      <td>6505</td>\n",
       "      <td>6501</td>\n",
       "      <td>6482</td>\n",
       "      <td>6477</td>\n",
       "    </tr>\n",
       "    <tr>\n",
       "      <th>984</th>\n",
       "      <td>&lt;NA&gt;</td>\n",
       "      <td>6510</td>\n",
       "      <td>&lt;NA&gt;</td>\n",
       "      <td>6496</td>\n",
       "      <td>6479</td>\n",
       "    </tr>\n",
       "    <tr>\n",
       "      <th>985</th>\n",
       "      <td>&lt;NA&gt;</td>\n",
       "      <td>&lt;NA&gt;</td>\n",
       "      <td>&lt;NA&gt;</td>\n",
       "      <td>6502</td>\n",
       "      <td>6489</td>\n",
       "    </tr>\n",
       "    <tr>\n",
       "      <th>986</th>\n",
       "      <td>&lt;NA&gt;</td>\n",
       "      <td>&lt;NA&gt;</td>\n",
       "      <td>&lt;NA&gt;</td>\n",
       "      <td>6508</td>\n",
       "      <td>6492</td>\n",
       "    </tr>\n",
       "  </tbody>\n",
       "</table>\n",
       "</div>"
      ],
      "text/plain": [
       "      cv1   cv2   cv3   cv4   cv5\n",
       "982  6497  6504  6494  6471  6476\n",
       "983  6498  6505  6501  6482  6477\n",
       "984  <NA>  6510  <NA>  6496  6479\n",
       "985  <NA>  <NA>  <NA>  6502  6489\n",
       "986  <NA>  <NA>  <NA>  6508  6492"
      ]
     },
     "execution_count": 6,
     "metadata": {},
     "output_type": "execute_result"
    }
   ],
   "source": [
    "idx_test = pd.read_csv(file_idx_test, dtype=pd.Int64Dtype())\n",
    "idx_test.iloc[-5:]"
   ]
  },
  {
   "cell_type": "code",
   "execution_count": 7,
   "metadata": {},
   "outputs": [
    {
     "name": "stdout",
     "output_type": "stream",
     "text": [
      "Labels: [0 1]\n",
      "Shape: (6512, 167)\n"
     ]
    },
    {
     "data": {
      "text/html": [
       "<div>\n",
       "<style scoped>\n",
       "    .dataframe tbody tr th:only-of-type {\n",
       "        vertical-align: middle;\n",
       "    }\n",
       "\n",
       "    .dataframe tbody tr th {\n",
       "        vertical-align: top;\n",
       "    }\n",
       "\n",
       "    .dataframe thead th {\n",
       "        text-align: right;\n",
       "    }\n",
       "</style>\n",
       "<table border=\"1\" class=\"dataframe\">\n",
       "  <thead>\n",
       "    <tr style=\"text-align: right;\">\n",
       "      <th></th>\n",
       "      <th>x1</th>\n",
       "      <th>x2</th>\n",
       "      <th>x3</th>\n",
       "      <th>x4</th>\n",
       "      <th>x5</th>\n",
       "      <th>x6</th>\n",
       "      <th>x7</th>\n",
       "      <th>x8</th>\n",
       "      <th>x9</th>\n",
       "      <th>x10</th>\n",
       "      <th>...</th>\n",
       "      <th>x158</th>\n",
       "      <th>x159</th>\n",
       "      <th>x160</th>\n",
       "      <th>x161</th>\n",
       "      <th>x162</th>\n",
       "      <th>x163</th>\n",
       "      <th>x164</th>\n",
       "      <th>x165</th>\n",
       "      <th>x166</th>\n",
       "      <th>y</th>\n",
       "    </tr>\n",
       "  </thead>\n",
       "  <tbody>\n",
       "    <tr>\n",
       "      <th>0</th>\n",
       "      <td>0.0</td>\n",
       "      <td>0.0</td>\n",
       "      <td>0.0</td>\n",
       "      <td>0.0</td>\n",
       "      <td>0.0</td>\n",
       "      <td>0.0</td>\n",
       "      <td>0.0</td>\n",
       "      <td>0.0</td>\n",
       "      <td>0.0</td>\n",
       "      <td>0.0</td>\n",
       "      <td>...</td>\n",
       "      <td>0.0</td>\n",
       "      <td>5.0</td>\n",
       "      <td>0.0</td>\n",
       "      <td>2.0</td>\n",
       "      <td>1.0</td>\n",
       "      <td>42.0</td>\n",
       "      <td>6.0</td>\n",
       "      <td>44.0</td>\n",
       "      <td>0.0</td>\n",
       "      <td>0</td>\n",
       "    </tr>\n",
       "    <tr>\n",
       "      <th>1</th>\n",
       "      <td>0.0</td>\n",
       "      <td>0.0</td>\n",
       "      <td>0.0</td>\n",
       "      <td>0.0</td>\n",
       "      <td>0.0</td>\n",
       "      <td>0.0</td>\n",
       "      <td>0.0</td>\n",
       "      <td>0.0</td>\n",
       "      <td>0.0</td>\n",
       "      <td>0.0</td>\n",
       "      <td>...</td>\n",
       "      <td>2.0</td>\n",
       "      <td>1.0</td>\n",
       "      <td>0.0</td>\n",
       "      <td>5.0</td>\n",
       "      <td>0.0</td>\n",
       "      <td>0.0</td>\n",
       "      <td>2.0</td>\n",
       "      <td>0.0</td>\n",
       "      <td>0.0</td>\n",
       "      <td>1</td>\n",
       "    </tr>\n",
       "    <tr>\n",
       "      <th>2</th>\n",
       "      <td>0.0</td>\n",
       "      <td>0.0</td>\n",
       "      <td>0.0</td>\n",
       "      <td>0.0</td>\n",
       "      <td>0.0</td>\n",
       "      <td>0.0</td>\n",
       "      <td>0.0</td>\n",
       "      <td>0.0</td>\n",
       "      <td>0.0</td>\n",
       "      <td>0.0</td>\n",
       "      <td>...</td>\n",
       "      <td>2.0</td>\n",
       "      <td>1.0</td>\n",
       "      <td>0.0</td>\n",
       "      <td>4.0</td>\n",
       "      <td>0.0</td>\n",
       "      <td>6.0</td>\n",
       "      <td>2.0</td>\n",
       "      <td>6.0</td>\n",
       "      <td>0.0</td>\n",
       "      <td>1</td>\n",
       "    </tr>\n",
       "    <tr>\n",
       "      <th>3</th>\n",
       "      <td>0.0</td>\n",
       "      <td>0.0</td>\n",
       "      <td>0.0</td>\n",
       "      <td>0.0</td>\n",
       "      <td>0.0</td>\n",
       "      <td>0.0</td>\n",
       "      <td>0.0</td>\n",
       "      <td>0.0</td>\n",
       "      <td>0.0</td>\n",
       "      <td>0.0</td>\n",
       "      <td>...</td>\n",
       "      <td>2.0</td>\n",
       "      <td>1.0</td>\n",
       "      <td>0.0</td>\n",
       "      <td>4.0</td>\n",
       "      <td>0.0</td>\n",
       "      <td>0.0</td>\n",
       "      <td>2.0</td>\n",
       "      <td>0.0</td>\n",
       "      <td>0.0</td>\n",
       "      <td>1</td>\n",
       "    </tr>\n",
       "    <tr>\n",
       "      <th>4</th>\n",
       "      <td>0.0</td>\n",
       "      <td>0.0</td>\n",
       "      <td>0.0</td>\n",
       "      <td>0.0</td>\n",
       "      <td>0.0</td>\n",
       "      <td>0.0</td>\n",
       "      <td>0.0</td>\n",
       "      <td>0.0</td>\n",
       "      <td>0.0</td>\n",
       "      <td>0.0</td>\n",
       "      <td>...</td>\n",
       "      <td>1.0</td>\n",
       "      <td>2.0</td>\n",
       "      <td>1.0</td>\n",
       "      <td>4.0</td>\n",
       "      <td>0.0</td>\n",
       "      <td>6.0</td>\n",
       "      <td>3.0</td>\n",
       "      <td>6.0</td>\n",
       "      <td>0.0</td>\n",
       "      <td>1</td>\n",
       "    </tr>\n",
       "  </tbody>\n",
       "</table>\n",
       "<p>5 rows × 167 columns</p>\n",
       "</div>"
      ],
      "text/plain": [
       "    x1   x2   x3   x4   x5   x6   x7   x8   x9  x10  ...  x158  x159  x160  \\\n",
       "0  0.0  0.0  0.0  0.0  0.0  0.0  0.0  0.0  0.0  0.0  ...   0.0   5.0   0.0   \n",
       "1  0.0  0.0  0.0  0.0  0.0  0.0  0.0  0.0  0.0  0.0  ...   2.0   1.0   0.0   \n",
       "2  0.0  0.0  0.0  0.0  0.0  0.0  0.0  0.0  0.0  0.0  ...   2.0   1.0   0.0   \n",
       "3  0.0  0.0  0.0  0.0  0.0  0.0  0.0  0.0  0.0  0.0  ...   2.0   1.0   0.0   \n",
       "4  0.0  0.0  0.0  0.0  0.0  0.0  0.0  0.0  0.0  0.0  ...   1.0   2.0   1.0   \n",
       "\n",
       "   x161  x162  x163  x164  x165  x166  y  \n",
       "0   2.0   1.0  42.0   6.0  44.0   0.0  0  \n",
       "1   5.0   0.0   0.0   2.0   0.0   0.0  1  \n",
       "2   4.0   0.0   6.0   2.0   6.0   0.0  1  \n",
       "3   4.0   0.0   0.0   2.0   0.0   0.0  1  \n",
       "4   4.0   0.0   6.0   3.0   6.0   0.0  1  \n",
       "\n",
       "[5 rows x 167 columns]"
      ]
     },
     "execution_count": 7,
     "metadata": {},
     "output_type": "execute_result"
    }
   ],
   "source": [
    "data = pd.read_csv(file_data)\n",
    "data[\"y\"] = data[\"y\"].astype(\"category\").cat.codes\n",
    "print(\"Labels:\", data[\"y\"].unique())\n",
    "print(\"Shape:\", data.shape)\n",
    "data.head()"
   ]
  },
  {
   "cell_type": "code",
   "execution_count": 8,
   "metadata": {},
   "outputs": [
    {
     "name": "stdout",
     "output_type": "stream",
     "text": [
      "[ 2 11 15 17 20]\n",
      "[ 8 23 25 36 39]\n"
     ]
    }
   ],
   "source": [
    "# Only load one CV split\n",
    "idx_test_cv1 = idx_test['cv1'].dropna(axis=0).to_numpy().astype(int)\n",
    "idx_train_cv1 = idx_train['cv1'].dropna(axis=0).to_numpy().astype(int)\n",
    "print(idx_test_cv1[:5])\n",
    "print(idx_train_cv1[:5])\n",
    "assert len(idx_test_cv1) + len(idx_train_cv1) == data.shape[0]\n",
    "\n",
    "# Check if any index from test set is also in train set\n",
    "assert not np.all(np.isin(idx_test_cv1, idx_train_cv1))"
   ]
  },
  {
   "cell_type": "code",
   "execution_count": 9,
   "metadata": {},
   "outputs": [],
   "source": [
    "y = data['y'].to_numpy().astype(int)\n",
    "\n",
    "# Drop columns with no information for training.\n",
    "data = drop_redundant_col(data)\n",
    "X = data.drop(['y'], axis=1).to_numpy()"
   ]
  },
  {
   "cell_type": "code",
   "execution_count": 10,
   "metadata": {},
   "outputs": [],
   "source": [
    "# These are required for Region-Based Classifier\n",
    "X = data.drop(['y'], axis=1)\n",
    "# Convert values to integer categorical data\n",
    "X = category2code(X).to_numpy()"
   ]
  },
  {
   "cell_type": "code",
   "execution_count": 11,
   "metadata": {},
   "outputs": [],
   "source": [
    "# Change any value greater than 1 to 1\n",
    "# X = maccs2binary(X)"
   ]
  },
  {
   "cell_type": "code",
   "execution_count": 12,
   "metadata": {},
   "outputs": [
    {
     "name": "stdout",
     "output_type": "stream",
     "text": [
      "(5528, 154) (984, 154)\n",
      "(5528,) (984,)\n"
     ]
    }
   ],
   "source": [
    "X_train, X_test = X[idx_train_cv1], X[idx_test_cv1]\n",
    "y_train, y_test = y[idx_train_cv1], y[idx_test_cv1]\n",
    "print(X_train.shape, X_test.shape)\n",
    "print(y_train.shape, y_test.shape)"
   ]
  },
  {
   "cell_type": "code",
   "execution_count": 13,
   "metadata": {},
   "outputs": [],
   "source": [
    "# Centred at 0.\n",
    "# scaler = StandardScaler()\n",
    "# X_train = scaler.fit_transform(X_train)\n",
    "# X_test = scaler.transform(X_test)"
   ]
  },
  {
   "cell_type": "code",
   "execution_count": 14,
   "metadata": {},
   "outputs": [
    {
     "name": "stdout",
     "output_type": "stream",
     "text": [
      "743404\n",
      "{'bootstrap': True, 'ccp_alpha': 0.0, 'class_weight': None, 'criterion': 'gini', 'max_depth': None, 'max_features': 'auto', 'max_leaf_nodes': None, 'max_samples': None, 'min_impurity_decrease': 0.0, 'min_samples_leaf': 1, 'min_samples_split': 2, 'min_weight_fraction_leaf': 0.0, 'n_estimators': 300, 'n_jobs': None, 'oob_score': False, 'random_state': 743404, 'verbose': 0, 'warm_start': False}\n",
      "[Accuracy] Train: 99.01%, test: 78.25%\n"
     ]
    }
   ],
   "source": [
    "# Step 2: Train classifier\n",
    "N_TREES = 300\n",
    "SEED = np.random.randint(1000, 999999)\n",
    "print(SEED)\n",
    "clf = RandomForestClassifier(n_estimators=N_TREES, random_state=SEED)\n",
    "print(clf.get_params())\n",
    "clf.fit(X_train, y_train)\n",
    "\n",
    "acc_train = clf.score(X_train, y_train)\n",
    "acc_test = clf.score(X_test, y_test)\n",
    "print(f'[Accuracy] Train: {acc_train*100:.2f}%, test: {acc_test*100:.2f}%')"
   ]
  },
  {
   "cell_type": "code",
   "execution_count": 15,
   "metadata": {},
   "outputs": [],
   "source": [
    "# # Step 3: Train AD\n",
    "# ad = DAIndexKappa(k=5, dist_metric='jaccard')\n",
    "# # ad = DAIndexGamma(k=5, dist_metric='euclidean')\n",
    "# # ad = DAIndexDelta(k=5, dist_metric='euclidean')\n",
    "# ad.fit(X_train)"
   ]
  },
  {
   "cell_type": "markdown",
   "metadata": {},
   "source": [
    "## How to choose R_MIN and R_MAX?\n",
    "Set boundary to a relatively large value, run the `fit` function, and then adjust R_MIN and R_MAX based on the console outputs."
   ]
  },
  {
   "cell_type": "code",
   "execution_count": 16,
   "metadata": {},
   "outputs": [
    {
     "name": "stderr",
     "output_type": "stream",
     "text": [
      "[adad.adversarial.region_based_classifier]:Point-based accuracy: 99.01%.\n",
      "[adad.adversarial.region_based_classifier]:n_class: 2\n",
      "[adad.adversarial.region_based_classifier]:Search Low: 0.0800 Mid: 0.1000 High: 0.1200\n",
      "100%|███████████████████████████████████████████████████████████| 5528/5528 [02:01<00:00, 45.31it/s]\n",
      "[adad.adversarial.region_based_classifier]:Search Low: 0.1075 Mid: 0.1137 High: 0.1200\n",
      "100%|███████████████████████████████████████████████████████████| 5528/5528 [02:02<00:00, 44.96it/s]\n",
      "[adad.adversarial.region_based_classifier]:Total training time: 00h04m05s\n",
      "[adad.adversarial.region_based_classifier]:Best r: 0.1137\n"
     ]
    },
    {
     "data": {
      "text/plain": [
       "<adad.adversarial.region_based_classifier.SklearnRegionBasedClassifier at 0x7f7a57cf13d0>"
      ]
     },
     "execution_count": 16,
     "metadata": {},
     "output_type": "execute_result"
    }
   ],
   "source": [
    "from adad.adversarial import SklearnRegionBasedClassifier\n",
    "from adad.utils import get_range\n",
    "\n",
    "# Parameters for Region-Based Classifier\n",
    "R_MIN = 0.08\n",
    "R_MAX = 0.12\n",
    "STEP_SIZE = 1\n",
    "EPS = 0.01\n",
    "\n",
    "x_min, x_max = get_range(X_train)\n",
    "# TODO: Add MAX_ITER as a parameter!\n",
    "ad = SklearnRegionBasedClassifier(\n",
    "    clf,\n",
    "    sample_size=200,\n",
    "    x_min=x_min,\n",
    "    x_max=x_max,\n",
    "    r_min=R_MIN,\n",
    "    r_max=R_MAX,\n",
    "    step_size=STEP_SIZE,\n",
    "    eps=EPS,\n",
    "    data_type='discrete',\n",
    "    verbose=1)\n",
    "\n",
    "ad.fit(X_train, y_train)"
   ]
  },
  {
   "cell_type": "code",
   "execution_count": 17,
   "metadata": {},
   "outputs": [
    {
     "name": "stderr",
     "output_type": "stream",
     "text": [
      "100%|█████████████████████████████████████████████████████████████| 984/984 [00:22<00:00, 44.26it/s]\n"
     ]
    }
   ],
   "source": [
    "dm = ad.measure(X_test)\n",
    "idx = int(np.round(dm.shape[0] * 0.9))"
   ]
  },
  {
   "cell_type": "code",
   "execution_count": 18,
   "metadata": {},
   "outputs": [
    {
     "name": "stdout",
     "output_type": "stream",
     "text": [
      "Sensitivity: 0.810\n",
      "Specificity: 0.743\n"
     ]
    }
   ],
   "source": [
    "# Step 4: Evaluate\n",
    "y_pred = clf.predict(X_test)\n",
    "tpr, tnr = sensitivity_specificity(y_test, y_pred)\n",
    "print(f'Sensitivity: {tpr:.3f}')\n",
    "print(f'Specificity: {tnr:.3f}')"
   ]
  },
  {
   "cell_type": "code",
   "execution_count": 19,
   "metadata": {},
   "outputs": [],
   "source": [
    "# Not all DM requires to inverse the value\n",
    "dm = 1. / (dm + 1e-6)"
   ]
  },
  {
   "cell_type": "code",
   "execution_count": 20,
   "metadata": {},
   "outputs": [
    {
     "data": {
      "image/png": "[encoded data removed]",
      "text/plain": [
       "<Figure size 432x432 with 1 Axes>"
      ]
     },
     "metadata": {
      "needs_background": "light"
     },
     "output_type": "display_data"
    }
   ],
   "source": [
    "# TODO: `cumulative_accuracy` the order for distance measures are inverted\n",
    "cumulative_acc, cumulative_rate = cumulative_accuracy(y_test, y_pred, dm)\n",
    "\n",
    "plt.figure(figsize=(6, 6))\n",
    "plt.plot(cumulative_rate, cumulative_acc)\n",
    "plt.xlabel(\"Cumulative Rate\")\n",
    "plt.xlim((0, 1.0))\n",
    "plt.ylabel(\"Cumulative Accuracy (%)\")\n",
    "plt.ylim((0.7, 1.0))\n",
    "plt.title(\"Cumulative Accuracy\")\n",
    "plt.show()"
   ]
  },
  {
   "cell_type": "code",
   "execution_count": 21,
   "metadata": {},
   "outputs": [
    {
     "data": {
      "image/png": "[encoded data removed]",
      "text/plain": [
       "<Figure size 432x432 with 1 Axes>"
      ]
     },
     "metadata": {
      "needs_background": "light"
     },
     "output_type": "display_data"
    }
   ],
   "source": [
    "# TODO: `roc_ad` the order for distance measures are inverted\n",
    "fpr, tpr = roc_ad(y_test, y_pred, dm)\n",
    "roc_auc = auc(fpr, tpr)\n",
    "\n",
    "fig, ax = plt.subplots(figsize=(6, 6))\n",
    "roc_display = RocCurveDisplay(fpr=fpr, tpr=tpr, roc_auc=roc_auc)\n",
    "roc_display.plot(ax=ax)\n",
    "ax.set_xlim(0., 1.)\n",
    "ax.set_ylim(0., 1.)\n",
    "plt.show()"
   ]
  },
  {
   "cell_type": "code",
   "execution_count": 22,
   "metadata": {},
   "outputs": [
    {
     "name": "stdout",
     "output_type": "stream",
     "text": [
      "0.5817690496575343\n"
     ]
    }
   ],
   "source": [
    "perm_auc, _ = permutation_auc(y_test, y_pred, dm)\n",
    "print(perm_auc)"
   ]
  },
  {
   "cell_type": "code",
   "execution_count": 23,
   "metadata": {},
   "outputs": [
    {
     "data": {
      "image/png": "[encoded data removed]",
      "text/plain": [
       "<Figure size 432x432 with 1 Axes>"
      ]
     },
     "metadata": {
      "needs_background": "light"
     },
     "output_type": "display_data"
    }
   ],
   "source": [
    "# TODO: `predictiveness_curves` the order for distance measures are inverted\n",
    "percentile, error_rate = predictiveness_curves(y_test, y_pred, dm)\n",
    "\n",
    "fig, ax = plt.subplots(figsize=(6, 6))\n",
    "ax.plot(percentile, error_rate)\n",
    "ax.set_xlabel(\"Percentile\")\n",
    "ax.set_xlim(0., 1.)\n",
    "ax.set_ylabel(\"Error Rate\")\n",
    "ax.set_ylim(0, 0.6)\n",
    "ax.set_title(\"Predictiveness Curves (PC)\")\n",
    "plt.show()"
   ]
  },
  {
   "cell_type": "code",
   "execution_count": null,
   "metadata": {},
   "outputs": [],
   "source": []
  }
 ],
 "metadata": {
  "interpreter": {
   "hash": "016355130b3c16c526f1441741bcbcb9475435ab9822383558c43dece6aac7b7"
  },
  "kernelspec": {
   "display_name": "Python 3.7.5 64-bit ('venv37': venv)",
   "language": "python",
   "name": "python3"
  },
  "language_info": {
   "codemirror_mode": {
    "name": "ipython",
    "version": 3
   },
   "file_extension": ".py",
   "mimetype": "text/x-python",
   "name": "python",
   "nbconvert_exporter": "python",
   "pygments_lexer": "ipython3",
   "version": "3.7.12"
  },
  "orig_nbformat": 4
 },
 "nbformat": 4,
 "nbformat_minor": 2
}
