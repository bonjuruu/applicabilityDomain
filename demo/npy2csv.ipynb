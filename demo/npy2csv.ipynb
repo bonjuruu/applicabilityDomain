{
 "cells": [
  {
   "cell_type": "code",
   "execution_count": 1,
   "metadata": {},
   "outputs": [],
   "source": [
    "%load_ext autoreload\n",
    "%autoreload 2"
   ]
  },
  {
   "cell_type": "code",
   "execution_count": 2,
   "metadata": {},
   "outputs": [],
   "source": [
    "import os\n",
    "from pathlib import Path\n",
    "\n",
    "import numpy as np\n",
    "import pandas as pd\n",
    "\n",
    "from adad.utils import to_csv"
   ]
  },
  {
   "cell_type": "code",
   "execution_count": 3,
   "metadata": {},
   "outputs": [
    {
     "name": "stdout",
     "output_type": "stream",
     "text": [
      "/home/lukec/workspace/applicabilityDomain\n"
     ]
    }
   ],
   "source": [
    "PATH_ROOT = Path(os.getcwd()).absolute().parent\n",
    "print(PATH_ROOT)"
   ]
  },
  {
   "cell_type": "code",
   "execution_count": 4,
   "metadata": {},
   "outputs": [
    {
     "name": "stdout",
     "output_type": "stream",
     "text": [
      "['/home/lukec/workspace/applicabilityDomain/data/maccs/Ames_maccs.npy'\n",
      " '/home/lukec/workspace/applicabilityDomain/data/maccs/BBBP_maccs.npy'\n",
      " '/home/lukec/workspace/applicabilityDomain/data/maccs/CYP1A2_maccs.npy'\n",
      " '/home/lukec/workspace/applicabilityDomain/data/maccs/Cancer_maccs.npy'\n",
      " '/home/lukec/workspace/applicabilityDomain/data/maccs/HIV_maccs.npy'\n",
      " '/home/lukec/workspace/applicabilityDomain/data/maccs/Liver_maccs.npy'\n",
      " '/home/lukec/workspace/applicabilityDomain/data/maccs/hERG_maccs.npy']\n"
     ]
    }
   ],
   "source": [
    "path_maccs = os.path.join(PATH_ROOT, 'data', 'maccs')\n",
    "path_maccs_files = np.sort([os.path.join(path_maccs, file) for file in os.listdir(path_maccs) if file[-4:] == '.npy'])\n",
    "print(path_maccs_files)"
   ]
  },
  {
   "cell_type": "code",
   "execution_count": 5,
   "metadata": {},
   "outputs": [
    {
     "name": "stdout",
     "output_type": "stream",
     "text": [
      "['/home/lukec/workspace/applicabilityDomain/data/smiles/Ames_smiles.csv'\n",
      " '/home/lukec/workspace/applicabilityDomain/data/smiles/BBBP_smiles.csv'\n",
      " '/home/lukec/workspace/applicabilityDomain/data/smiles/CYP1A2_smiles.csv'\n",
      " '/home/lukec/workspace/applicabilityDomain/data/smiles/Cancer_smiles.csv'\n",
      " '/home/lukec/workspace/applicabilityDomain/data/smiles/HIV_smiles.csv'\n",
      " '/home/lukec/workspace/applicabilityDomain/data/smiles/Liver_smiles.csv'\n",
      " '/home/lukec/workspace/applicabilityDomain/data/smiles/hERG_smiles.csv']\n"
     ]
    }
   ],
   "source": [
    "path_smiles = os.path.join(PATH_ROOT, 'data', 'smiles')\n",
    "path_smiles_files = np.sort([os.path.join(path_smiles, file) for file in os.listdir(path_smiles) if file[-4:] == '.csv'])\n",
    "print(path_smiles_files)"
   ]
  },
  {
   "cell_type": "code",
   "execution_count": 6,
   "metadata": {},
   "outputs": [],
   "source": [
    "def npy2csv(path_maccs, path_smiles):\n",
    "    filename = Path(path_maccs).stem\n",
    "    print(filename)\n",
    "    X = np.load(path_maccs)\n",
    "    df = pd.read_csv(path_smiles)\n",
    "    y = df['y'].to_numpy()\n",
    "    assert X.shape[0] == y.shape[0]\n",
    "    cols = [f'x{i}' for i in range(1, X.shape[1]+1)]\n",
    "    path_output = os.path.join(Path(path_maccs).parent, filename + '.csv')\n",
    "    print(path_output)\n",
    "    to_csv(X, y, cols, path_output)"
   ]
  },
  {
   "cell_type": "code",
   "execution_count": 7,
   "metadata": {},
   "outputs": [
    {
     "name": "stdout",
     "output_type": "stream",
     "text": [
      "Ames_maccs\n",
      "/home/lukec/workspace/applicabilityDomain/data/maccs/Ames_maccs.csv\n",
      "BBBP_maccs\n",
      "/home/lukec/workspace/applicabilityDomain/data/maccs/BBBP_maccs.csv\n",
      "CYP1A2_maccs\n",
      "/home/lukec/workspace/applicabilityDomain/data/maccs/CYP1A2_maccs.csv\n",
      "Cancer_maccs\n",
      "/home/lukec/workspace/applicabilityDomain/data/maccs/Cancer_maccs.csv\n",
      "HIV_maccs\n",
      "/home/lukec/workspace/applicabilityDomain/data/maccs/HIV_maccs.csv\n",
      "Liver_maccs\n",
      "/home/lukec/workspace/applicabilityDomain/data/maccs/Liver_maccs.csv\n",
      "hERG_maccs\n",
      "/home/lukec/workspace/applicabilityDomain/data/maccs/hERG_maccs.csv\n"
     ]
    }
   ],
   "source": [
    "for pm, ps in zip(path_maccs_files, path_smiles_files):\n",
    "    npy2csv(pm, ps)"
   ]
  },
  {
   "cell_type": "code",
   "execution_count": null,
   "metadata": {},
   "outputs": [],
   "source": []
  }
 ],
 "metadata": {
  "interpreter": {
   "hash": "9b82a9d8d0183ad4357118c9b46c3af9838222304dccc02f146cc040e179c913"
  },
  "kernelspec": {
   "display_name": "Python 3.8.10 64-bit ('venv': venv)",
   "language": "python",
   "name": "python3"
  },
  "language_info": {
   "codemirror_mode": {
    "name": "ipython",
    "version": 3
   },
   "file_extension": ".py",
   "mimetype": "text/x-python",
   "name": "python",
   "nbconvert_exporter": "python",
   "pygments_lexer": "ipython3",
   "version": "3.8.10"
  },
  "orig_nbformat": 4
 },
 "nbformat": 4,
 "nbformat_minor": 2
}
