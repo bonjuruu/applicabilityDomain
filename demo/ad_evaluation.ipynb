{
 "cells": [
  {
   "cell_type": "code",
   "execution_count": 1,
   "metadata": {},
   "outputs": [],
   "source": [
    "%load_ext lab_black"
   ]
  },
  {
   "cell_type": "code",
   "execution_count": 2,
   "metadata": {},
   "outputs": [],
   "source": [
    "import numpy as np\n",
    "import pandas as pd\n",
    "import matplotlib.pyplot as plt"
   ]
  },
  {
   "cell_type": "code",
   "execution_count": 3,
   "metadata": {},
   "outputs": [],
   "source": [
    "np.random.seed(1234)"
   ]
  },
  {
   "cell_type": "code",
   "execution_count": 4,
   "metadata": {},
   "outputs": [
    {
     "name": "stdout",
     "output_type": "stream",
     "text": [
      "40\n"
     ]
    },
    {
     "data": {
      "text/plain": [
       "array([1, 1, 1, 1, 1, 1, 1, 1, 1, 1, 1, 1, 1, 1, 1, 1, 1, 1, 1, 1, 0, 0,\n",
       "       0, 0, 0, 0, 0, 0, 0, 0, 0, 0, 0, 0, 0, 0, 0, 0, 0, 0])"
      ]
     },
     "execution_count": 4,
     "metadata": {},
     "output_type": "execute_result"
    }
   ],
   "source": [
    "# Generate true labels\n",
    "y_true = np.concatenate((np.ones(20), np.zeros(20))).astype(int)\n",
    "n_sample = len(y_true)\n",
    "\n",
    "print(n_sample)\n",
    "y_true"
   ]
  },
  {
   "cell_type": "code",
   "execution_count": 5,
   "metadata": {},
   "outputs": [
    {
     "data": {
      "text/plain": [
       "array([1, 1, 1, 1, 1, 1, 1, 1, 1, 1, 1, 1, 1, 1, 1, 0, 0, 0, 0, 0, 0, 0,\n",
       "       0, 0, 0, 0, 0, 0, 0, 0, 0, 0, 0, 0, 0, 1, 1, 1, 1, 1])"
      ]
     },
     "execution_count": 5,
     "metadata": {},
     "output_type": "execute_result"
    }
   ],
   "source": [
    "# Generate preditions. Mark the 1st 10 samples as positive to ensure the accuracy\n",
    "# is above 50%.\n",
    "y_pred = np.concatenate((np.ones(15), np.zeros(20), np.ones(n_sample - 35))).astype(int)\n",
    "y_pred"
   ]
  },
  {
   "cell_type": "code",
   "execution_count": 6,
   "metadata": {},
   "outputs": [
    {
     "data": {
      "text/plain": [
       "0.75"
      ]
     },
     "execution_count": 6,
     "metadata": {},
     "output_type": "execute_result"
    }
   ],
   "source": [
    "acc = np.mean(y_true == y_pred)\n",
    "acc"
   ]
  },
  {
   "cell_type": "code",
   "execution_count": 7,
   "metadata": {},
   "outputs": [
    {
     "name": "stdout",
     "output_type": "stream",
     "text": [
      "# of samples in Class 1: 20\n",
      "# of samples in Class 2: 20\n"
     ]
    }
   ],
   "source": [
    "# The samples labelled as 0 are belong to Class 1.\n",
    "idx_pred_c1 = np.where(y_pred == 0)[0]\n",
    "idx_pred_c2 = np.where(y_pred == 1)[0]\n",
    "n_pred_c1 = len(idx_pred_c1)\n",
    "n_pred_c2 = len(idx_pred_c2)\n",
    "\n",
    "n_true_c1 = np.sum(y_true == 0)\n",
    "n_true_c2 = np.sum(y_true == 1)\n",
    "\n",
    "idx_true_c1 = np.where(y_true == 0)[0]\n",
    "idx_true_c2 = np.where(y_true == 1)[0]\n",
    "print(\"# of samples in Class 1:\", len(idx_true_c1))\n",
    "print(\"# of samples in Class 2:\", len(idx_true_c2))"
   ]
  },
  {
   "cell_type": "code",
   "execution_count": 8,
   "metadata": {},
   "outputs": [
    {
     "data": {
      "text/plain": [
       "array([0.014, 0.192, 0.273, 0.276, 0.358, 0.37 , 0.438, 0.501, 0.503,\n",
       "       0.561, 0.622, 0.683, 0.713, 0.773, 0.78 , 0.785, 0.802, 0.876,\n",
       "       0.883, 0.958, 0.075, 0.144, 0.219, 0.317, 0.365, 0.369, 0.397,\n",
       "       0.436, 0.442, 0.568, 0.615, 0.651, 0.704, 0.705, 0.789, 0.802,\n",
       "       0.869, 0.909, 0.925, 0.933])"
      ]
     },
     "execution_count": 8,
     "metadata": {},
     "output_type": "execute_result"
    }
   ],
   "source": [
    "# Generate distance measures (DM)\n",
    "# DMs are positive values, a lower value means it's closer to the Applicability\n",
    "# Domain (Better).\n",
    "dm = np.zeros_like(y_true, dtype=float)\n",
    "dm[:20] = np.sort(np.random.rand(20))\n",
    "dm[20:] = np.sort(np.random.rand(20))\n",
    "dm = np.round(dm, 3)\n",
    "dm"
   ]
  },
  {
   "cell_type": "code",
   "execution_count": 9,
   "metadata": {},
   "outputs": [],
   "source": [
    "from scipy.stats import rankdata"
   ]
  },
  {
   "cell_type": "code",
   "execution_count": 10,
   "metadata": {},
   "outputs": [
    {
     "data": {
      "text/plain": [
       "array([ 1. ,  4. ,  6. ,  7. ,  9. , 12. , 15. , 17. , 18. , 19. , 22. ,\n",
       "       24. , 27. , 28. , 29. , 30. , 32.5, 35. , 36. , 40. ,  2. ,  3. ,\n",
       "        5. ,  8. , 10. , 11. , 13. , 14. , 16. , 20. , 21. , 23. , 25. ,\n",
       "       26. , 31. , 32.5, 34. , 37. , 38. , 39. ])"
      ]
     },
     "execution_count": 10,
     "metadata": {},
     "output_type": "execute_result"
    }
   ],
   "source": [
    "ranks = rankdata(dm)\n",
    "ranks"
   ]
  },
  {
   "cell_type": "code",
   "execution_count": 11,
   "metadata": {},
   "outputs": [],
   "source": [
    "def cumulative_accuracy(y_true, y_pred, dist_measure):\n",
    "    \"\"\"Compute cumulative accuracy based on distance measures.\n",
    "\n",
    "    Returns\n",
    "    -------\n",
    "    cumulative_acc: list\n",
    "        Cumulative Accuracy\n",
    "    cumulative_rate: list\n",
    "        The rate the samples that are used to compute `cumulate_acc`.\n",
    "    \"\"\"\n",
    "    assert (\n",
    "        y_true.shape == y_pred.shape\n",
    "    ), \"True labels and predictions must have same shape.\"\n",
    "    assert (\n",
    "        y_true.shape == dist_measure.shape\n",
    "    ), \"True labels and distance measures must have same shape.\"\n",
    "\n",
    "    idx_sorted = np.argsort(dist_measure)\n",
    "    y_true_sorted = y_true[idx_sorted]\n",
    "    y_pred_sorted = y_pred[idx_sorted]\n",
    "    n_sample = len(y_true)\n",
    "    cumulative_acc = np.zeros(n_sample)\n",
    "    for i in range(n_sample):\n",
    "        corrects = y_true_sorted[0 : i + 1] == y_pred_sorted[0 : i + 1]\n",
    "        cumulative_acc[i] = np.mean(corrects)\n",
    "    cumulative_rate = np.arange(1, n_sample + 1) / n_sample\n",
    "    return cumulative_acc, cumulative_rate"
   ]
  },
  {
   "cell_type": "code",
   "execution_count": 12,
   "metadata": {},
   "outputs": [
    {
     "data": {
      "image/png": "[encoded data removed]",
      "text/plain": [
       "<Figure size 432x432 with 1 Axes>"
      ]
     },
     "metadata": {
      "needs_background": "light"
     },
     "output_type": "display_data"
    }
   ],
   "source": [
    "cumulative_acc, cumulative_rate = cumulative_accuracy(y_true, y_pred, dm)\n",
    "\n",
    "plt.figure(figsize=(6, 6))\n",
    "plt.plot(cumulative_rate, cumulative_acc)\n",
    "plt.xlabel(\"Cumulative Rate\")\n",
    "plt.ylabel(\"Cumulative Accuracy (%)\")\n",
    "plt.title(\"Cumulative Accuracy\")\n",
    "plt.show()"
   ]
  },
  {
   "cell_type": "code",
   "execution_count": 13,
   "metadata": {},
   "outputs": [
    {
     "data": {
      "text/plain": [
       "0.75"
      ]
     },
     "execution_count": 13,
     "metadata": {},
     "output_type": "execute_result"
    }
   ],
   "source": [
    "from sklearn.metrics import balanced_accuracy_score\n",
    "\n",
    "bal_acc = balanced_accuracy_score(y_true, y_pred)\n",
    "bal_acc"
   ]
  },
  {
   "cell_type": "code",
   "execution_count": 14,
   "metadata": {},
   "outputs": [],
   "source": [
    "from sklearn import metrics as met"
   ]
  },
  {
   "cell_type": "code",
   "execution_count": 15,
   "metadata": {},
   "outputs": [
    {
     "data": {
      "text/plain": [
       "array([False, False, False, False, False, False, False, False, False,\n",
       "       False, False, False, False, False, False,  True,  True,  True,\n",
       "        True,  True])"
      ]
     },
     "execution_count": 15,
     "metadata": {},
     "output_type": "execute_result"
    }
   ],
   "source": [
    "y_err_c1 = y_true[idx_true_c1] != y_pred[idx_true_c1]\n",
    "y_err_c1"
   ]
  },
  {
   "cell_type": "code",
   "execution_count": 16,
   "metadata": {},
   "outputs": [
    {
     "data": {
      "text/plain": [
       "array([0.075, 0.144, 0.219, 0.317, 0.365, 0.369, 0.397, 0.436, 0.442,\n",
       "       0.568, 0.615, 0.651, 0.704, 0.705, 0.789, 0.802, 0.869, 0.909,\n",
       "       0.925, 0.933])"
      ]
     },
     "execution_count": 16,
     "metadata": {},
     "output_type": "execute_result"
    }
   ],
   "source": [
    "dm[idx_true_c1]"
   ]
  },
  {
   "cell_type": "code",
   "execution_count": 17,
   "metadata": {},
   "outputs": [
    {
     "data": {
      "image/png": "[encoded data removed]",
      "text/plain": [
       "<Figure size 432x432 with 1 Axes>"
      ]
     },
     "metadata": {
      "needs_background": "light"
     },
     "output_type": "display_data"
    }
   ],
   "source": [
    "fpr, tpr, _ = met.roc_curve(y_err_c1, dm[idx_true_c1], pos_label=1)\n",
    "roc_auc = met.auc(fpr, tpr)\n",
    "\n",
    "plt.rcParams[\"font.size\"] = 16\n",
    "fig, ax = plt.subplots(figsize=(6, 6))\n",
    "roc_display = met.RocCurveDisplay(fpr=fpr, tpr=tpr, roc_auc=roc_auc)\n",
    "roc_display.plot(ax=ax)\n",
    "plt.show()"
   ]
  },
  {
   "cell_type": "code",
   "execution_count": 18,
   "metadata": {},
   "outputs": [
    {
     "data": {
      "text/plain": [
       "array([False, False, False, False, False, False, False, False, False,\n",
       "       False, False, False, False, False, False,  True,  True,  True,\n",
       "        True,  True, False, False, False, False, False, False, False,\n",
       "       False, False, False, False, False, False, False, False,  True,\n",
       "        True,  True,  True,  True])"
      ]
     },
     "execution_count": 18,
     "metadata": {},
     "output_type": "execute_result"
    }
   ],
   "source": [
    "y_err = y_true != y_pred\n",
    "y_err"
   ]
  },
  {
   "cell_type": "code",
   "execution_count": 19,
   "metadata": {},
   "outputs": [
    {
     "data": {
      "image/png": "[encoded data removed]",
      "text/plain": [
       "<Figure size 432x432 with 1 Axes>"
      ]
     },
     "metadata": {
      "needs_background": "light"
     },
     "output_type": "display_data"
    }
   ],
   "source": [
    "fpr, tpr, _ = met.roc_curve(y_err, dm, pos_label=1)\n",
    "roc_auc = met.auc(fpr, tpr)\n",
    "\n",
    "plt.rcParams[\"font.size\"] = 16\n",
    "fig, ax = plt.subplots(figsize=(6, 6))\n",
    "roc_display = met.RocCurveDisplay(fpr=fpr, tpr=tpr, roc_auc=roc_auc)\n",
    "roc_display.plot(ax=ax)\n",
    "plt.show()"
   ]
  },
  {
   "cell_type": "code",
   "execution_count": 20,
   "metadata": {},
   "outputs": [
    {
     "data": {
      "image/png": "[encoded data removed]",
      "text/plain": [
       "<Figure size 432x432 with 1 Axes>"
      ]
     },
     "metadata": {
      "needs_background": "light"
     },
     "output_type": "display_data"
    }
   ],
   "source": [
    "np.random.seed(1234)\n",
    "dm_rand = np.random.randn(len(y_err_c1))\n",
    "\n",
    "fpr, tpr, _ = met.roc_curve(y_err_c1, dm_rand, pos_label=1)\n",
    "roc_auc = met.auc(fpr, tpr)\n",
    "\n",
    "plt.rcParams[\"font.size\"] = 16\n",
    "fig, ax = plt.subplots(figsize=(6, 6))\n",
    "roc_display = met.RocCurveDisplay(fpr=fpr, tpr=tpr, roc_auc=roc_auc)\n",
    "roc_display.plot(ax=ax)\n",
    "plt.show()"
   ]
  },
  {
   "cell_type": "code",
   "execution_count": 21,
   "metadata": {},
   "outputs": [],
   "source": [
    "def permROC(y_true, y_pred, dmeaure, n_perm):\n",
    "    perm_auc = np.zeros(n_perm)\n",
    "\n",
    "    y_pred = np.round(y_pred).astype(int)\n",
    "    idx_pred0 = np.where(y_pred == 0)[0]\n",
    "    idx_pred1 = np.where(y_pred == 1)[0]\n",
    "\n",
    "    n_true0 = np.sum(y_true == 0)\n",
    "    n_true1 = np.sum(y_true == 1)\n",
    "\n",
    "    idx_true0 = np.where(y_true == 0)[0]\n",
    "\n",
    "    prem_dmeas = np.zeros(len(dmeaure))\n",
    "\n",
    "    for i in range(n_perm):\n",
    "        perm_idx0 = np.random.permutation(idx_pred0)\n",
    "        perm_idx1 = np.random.permutation(idx_pred1)\n",
    "\n",
    "        prem_dmeas[idx_pred0] = dmeaure[perm_idx0]\n",
    "        prem_dmeas[idx_pred1] = dmeaure[perm_idx1]\n",
    "\n",
    "        ranks = rankdata(prem_dmeas)\n",
    "\n",
    "        s1 = np.sum(ranks[idx_true0])\n",
    "\n",
    "        auc = (s1 - (n_true0 * (n_true0 + 1) / 2)) / (n_true0 * n_true1)\n",
    "        perm_auc[i] = auc\n",
    "    significance_val = np.percentile(perm_auc, 95)\n",
    "\n",
    "    return significance_val, perm_auc"
   ]
  },
  {
   "cell_type": "code",
   "execution_count": 22,
   "metadata": {},
   "outputs": [
    {
     "name": "stdout",
     "output_type": "stream",
     "text": [
      "0.6225\n"
     ]
    }
   ],
   "source": [
    "sig_val, perm_auc = permROC(y_true, y_pred, dm, 10000)\n",
    "print(sig_val)"
   ]
  },
  {
   "cell_type": "code",
   "execution_count": 23,
   "metadata": {},
   "outputs": [
    {
     "name": "stdout",
     "output_type": "stream",
     "text": [
      "0.645\n"
     ]
    }
   ],
   "source": [
    "dm_rand = np.random.randn(n_sample)\n",
    "sig_val, perm_auc = permROC(y_true, y_pred, dm_rand, 10000)\n",
    "print(sig_val)"
   ]
  },
  {
   "cell_type": "code",
   "execution_count": 24,
   "metadata": {},
   "outputs": [],
   "source": [
    "idx_sortByDm = np.argsort(dm)"
   ]
  },
  {
   "cell_type": "code",
   "execution_count": 25,
   "metadata": {},
   "outputs": [
    {
     "name": "stdout",
     "output_type": "stream",
     "text": [
      "100\n"
     ]
    },
    {
     "data": {
      "text/plain": [
       "array([0.01, 0.02, 0.03, 0.04, 0.05, 0.06, 0.07, 0.08, 0.09, 0.1 , 0.11,\n",
       "       0.12, 0.13, 0.14, 0.15, 0.16, 0.17, 0.18, 0.19, 0.2 , 0.21, 0.22,\n",
       "       0.23, 0.24, 0.25, 0.26, 0.27, 0.28, 0.29, 0.3 , 0.31, 0.32, 0.33,\n",
       "       0.34, 0.35, 0.36, 0.37, 0.38, 0.39, 0.4 , 0.41, 0.42, 0.43, 0.44,\n",
       "       0.45, 0.46, 0.47, 0.48, 0.49, 0.5 , 0.51, 0.52, 0.53, 0.54, 0.55,\n",
       "       0.56, 0.57, 0.58, 0.59, 0.6 , 0.61, 0.62, 0.63, 0.64, 0.65, 0.66,\n",
       "       0.67, 0.68, 0.69, 0.7 , 0.71, 0.72, 0.73, 0.74, 0.75, 0.76, 0.77,\n",
       "       0.78, 0.79, 0.8 , 0.81, 0.82, 0.83, 0.84, 0.85, 0.86, 0.87, 0.88,\n",
       "       0.89, 0.9 , 0.91, 0.92, 0.93, 0.94, 0.95, 0.96, 0.97, 0.98, 0.99,\n",
       "       1.  ])"
      ]
     },
     "execution_count": 25,
     "metadata": {},
     "output_type": "execute_result"
    }
   ],
   "source": [
    "# 0 percentile is meaningless\n",
    "points = np.linspace(0, 1, 100 + 1)[1:]\n",
    "print(len(points))\n",
    "points"
   ]
  },
  {
   "cell_type": "code",
   "execution_count": 26,
   "metadata": {},
   "outputs": [],
   "source": [
    "from sklearn.preprocessing import QuantileTransformer"
   ]
  },
  {
   "cell_type": "code",
   "execution_count": 27,
   "metadata": {},
   "outputs": [
    {
     "name": "stderr",
     "output_type": "stream",
     "text": [
      "/home/lukec/.local/lib/python3.7/site-packages/sklearn/preprocessing/_data.py:2591: UserWarning: n_quantiles (100) is greater than the total number of samples (40). n_quantiles is set to n_samples.\n",
      "  \"n_samples.\" % (self.n_quantiles, n_samples)\n"
     ]
    },
    {
     "data": {
      "image/png": "[encoded data removed]",
      "text/plain": [
       "<Figure size 432x432 with 1 Axes>"
      ]
     },
     "metadata": {
      "needs_background": "light"
     },
     "output_type": "display_data"
    }
   ],
   "source": [
    "transformer = QuantileTransformer(n_quantiles=100)\n",
    "dm_quantile = transformer.fit_transform(dm.reshape(-1, 1))\n",
    "dm_quantile = dm_quantile.reshape(-1)\n",
    "\n",
    "pred_err = (y_pred != y_true).astype(int)\n",
    "err_rates = np.zeros_like(points)\n",
    "for i, p in enumerate(points):\n",
    "    idx = np.where(dm_quantile <= p)\n",
    "    err = np.mean(pred_err[idx]) if len(idx) > 0 else 0\n",
    "    err_rates[i] = err\n",
    "\n",
    "plt.rcParams[\"font.size\"] = 16\n",
    "fig, ax = plt.subplots(figsize=(6, 6))\n",
    "ax.plot(points, err_rates)\n",
    "ax.set_xlabel(\"Percentile\")\n",
    "ax.set_ylabel(\"Error Rate\")\n",
    "ax.set_title(\"Predictiveness Curves (PC)\")\n",
    "plt.show()"
   ]
  },
  {
   "cell_type": "code",
   "execution_count": 28,
   "metadata": {},
   "outputs": [
    {
     "name": "stderr",
     "output_type": "stream",
     "text": [
      "/home/lukec/.local/lib/python3.7/site-packages/sklearn/preprocessing/_data.py:2591: UserWarning: n_quantiles (100) is greater than the total number of samples (40). n_quantiles is set to n_samples.\n",
      "  \"n_samples.\" % (self.n_quantiles, n_samples)\n"
     ]
    },
    {
     "data": {
      "image/png": "[encoded data removed]",
      "text/plain": [
       "<Figure size 432x432 with 1 Axes>"
      ]
     },
     "metadata": {
      "needs_background": "light"
     },
     "output_type": "display_data"
    }
   ],
   "source": [
    "transformer = QuantileTransformer(n_quantiles=100)\n",
    "dm_rand_quantile = transformer.fit_transform(dm_rand.reshape(-1, 1))\n",
    "dm_rand_quantile = dm_rand_quantile.reshape(-1)\n",
    "\n",
    "pred_err = (y_pred != y_true).astype(int)\n",
    "err_rates = np.zeros_like(points)\n",
    "for i, p in enumerate(points):\n",
    "    idx = np.where(dm_rand_quantile <= p)\n",
    "    err = np.mean(pred_err[idx]) if len(idx) > 0 else 0\n",
    "    err_rates[i] = err\n",
    "\n",
    "plt.rcParams[\"font.size\"] = 16\n",
    "fig, ax = plt.subplots(figsize=(6, 6))\n",
    "ax.plot(points, err_rates)\n",
    "ax.set_xlabel(\"Percentile\")\n",
    "ax.set_ylabel(\"Error Rate\")\n",
    "ax.set_title(\"Predictiveness Curves (PC)\")\n",
    "plt.show()"
   ]
  },
  {
   "cell_type": "code",
   "execution_count": null,
   "metadata": {},
   "outputs": [],
   "source": []
  }
 ],
 "metadata": {
  "interpreter": {
   "hash": "016355130b3c16c526f1441741bcbcb9475435ab9822383558c43dece6aac7b7"
  },
  "kernelspec": {
   "display_name": "Python 3.7.5 64-bit ('venv37': venv)",
   "language": "python",
   "name": "python3"
  },
  "language_info": {
   "codemirror_mode": {
    "name": "ipython",
    "version": 3
   },
   "file_extension": ".py",
   "mimetype": "text/x-python",
   "name": "python",
   "nbconvert_exporter": "python",
   "pygments_lexer": "ipython3",
   "version": "3.7.5"
  },
  "orig_nbformat": 4
 },
 "nbformat": 4,
 "nbformat_minor": 2
}
