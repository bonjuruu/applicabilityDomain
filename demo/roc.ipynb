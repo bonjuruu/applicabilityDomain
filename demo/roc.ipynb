{
 "cells": [
  {
   "cell_type": "code",
   "execution_count": 13,
   "metadata": {},
   "outputs": [
    {
     "name": "stdout",
     "output_type": "stream",
     "text": [
      "The lab_black extension is already loaded. To reload it, use:\n",
      "  %reload_ext lab_black\n"
     ]
    }
   ],
   "source": [
    "%load_ext lab_black"
   ]
  },
  {
   "cell_type": "code",
   "execution_count": 14,
   "metadata": {},
   "outputs": [],
   "source": [
    "import numpy as np\n",
    "import matplotlib.pyplot as plt\n",
    "from scipy.stats import rankdata"
   ]
  },
  {
   "cell_type": "code",
   "execution_count": 15,
   "metadata": {},
   "outputs": [
    {
     "data": {
      "text/plain": [
       "array([0., 0., 0., 0., 0., 0., 0., 0., 0., 0., 1., 1., 1., 1., 1., 1., 1.,\n",
       "       1., 1., 1.])"
      ]
     },
     "execution_count": 15,
     "metadata": {},
     "output_type": "execute_result"
    }
   ],
   "source": [
    "y = np.concatenate((np.zeros(10), np.ones(10)))\n",
    "y"
   ]
  },
  {
   "cell_type": "code",
   "execution_count": 16,
   "metadata": {},
   "outputs": [
    {
     "data": {
      "text/plain": [
       "array([0., 0., 1., 1., 0., 1., 0., 1., 0., 1., 1., 0., 0., 0., 0., 1., 1.,\n",
       "       1., 1., 0.])"
      ]
     },
     "execution_count": 16,
     "metadata": {},
     "output_type": "execute_result"
    }
   ],
   "source": [
    "pred = np.random.rand(20)\n",
    "np.round(pred)"
   ]
  },
  {
   "cell_type": "code",
   "execution_count": 17,
   "metadata": {},
   "outputs": [
    {
     "data": {
      "text/plain": [
       "array([4.89, 4.3 , 0.24, 6.25, 6.49, 6.35, 0.99, 7.93, 1.15, 0.64, 9.7 ,\n",
       "       1.19, 1.91, 7.54, 5.4 , 8.56, 9.62, 8.38, 9.8 , 5.47])"
      ]
     },
     "execution_count": 17,
     "metadata": {},
     "output_type": "execute_result"
    }
   ],
   "source": [
    "# Distance measure\n",
    "dm = np.round(np.random.uniform(0.1, 10, size=len(pred)), 2)\n",
    "dm"
   ]
  },
  {
   "cell_type": "code",
   "execution_count": 18,
   "metadata": {},
   "outputs": [],
   "source": [
    "def permROC(y_true, y_pred, dmeaure, n_perm):\n",
    "    perm_auc = np.zeros(n_perm)\n",
    "\n",
    "    y_pred = np.round(y_pred).astype(int)\n",
    "    idx_pred0 = np.where(y_pred == 0)[0]\n",
    "    idx_pred1 = np.where(y_pred == 1)[0]\n",
    "    n_pred0 = len(idx_pred0)\n",
    "    n_pred1 = len(idx_pred1)\n",
    "\n",
    "    n_true0 = np.sum(y_true == 0)\n",
    "    n_true1 = np.sum(y_true == 1)\n",
    "\n",
    "    idx_true0 = np.where(y_true == 0)[0]\n",
    "\n",
    "    prem_dmeas = np.zeros(len(dmeaure))\n",
    "\n",
    "    for i in range(n_perm):\n",
    "        perm_idx0 = idx_pred0[np.random.permutation(n_pred0)]\n",
    "        perm_idx1 = idx_pred1[np.random.permutation(n_pred1)]\n",
    "\n",
    "        prem_dmeas[idx_pred0] = dmeaure[perm_idx0]\n",
    "        prem_dmeas[idx_pred1] = dmeaure[perm_idx1]\n",
    "\n",
    "        ranks = rankdata(prem_dmeas)\n",
    "\n",
    "        s1 = np.sum(ranks[idx_true0])\n",
    "\n",
    "        auc = (s1 - (n_true0 * (n_true0 + 1) / 2)) / (n_true0 * n_true1)\n",
    "        perm_auc[i] = auc\n",
    "    significance_val = np.percentile(perm_auc, 95)\n",
    "\n",
    "    return significance_val, perm_auc"
   ]
  },
  {
   "cell_type": "code",
   "execution_count": 20,
   "metadata": {},
   "outputs": [
    {
     "name": "stdout",
     "output_type": "stream",
     "text": [
      "0.6949999999999998\n",
      "[0.59 0.45 0.35 0.64 0.58 0.52 0.43 0.74 0.52 0.4 ]\n"
     ]
    }
   ],
   "source": [
    "sval, perm_auc = permROC(y, pred, dm, 10)\n",
    "print(sval)\n",
    "print(perm_auc)"
   ]
  },
  {
   "cell_type": "code",
   "execution_count": null,
   "metadata": {},
   "outputs": [],
   "source": [
    "from sklearn.metrics import RocCurveDisplay\n",
    "\n",
    "# TODO: How to plot ROC curve?\n",
    "\n",
    "# fig, ax = plt.subplots(figsize=(8, 8))\n",
    "# roc_display = RocCurveDisplay(fpr=fpr, tpr=tpr).plot(ax=ax)\n",
    "# ax.tick_params(labelsize=14)\n",
    "# plt.tight_layout()\n",
    "# plt.show()"
   ]
  }
 ],
 "metadata": {
  "interpreter": {
   "hash": "016355130b3c16c526f1441741bcbcb9475435ab9822383558c43dece6aac7b7"
  },
  "kernelspec": {
   "display_name": "Python 3.7.5 64-bit ('venv37': venv)",
   "language": "python",
   "name": "python3"
  },
  "language_info": {
   "codemirror_mode": {
    "name": "ipython",
    "version": 3
   },
   "file_extension": ".py",
   "mimetype": "text/x-python",
   "name": "python",
   "nbconvert_exporter": "python",
   "pygments_lexer": "ipython3",
   "version": "3.7.5"
  },
  "orig_nbformat": 4
 },
 "nbformat": 4,
 "nbformat_minor": 2
}
