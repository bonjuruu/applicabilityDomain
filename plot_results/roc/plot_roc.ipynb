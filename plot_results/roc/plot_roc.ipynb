{
 "cells": [
  {
   "cell_type": "code",
   "execution_count": 1,
   "metadata": {},
   "outputs": [],
   "source": [
    "import os\n",
    "from pathlib import Path\n",
    "from glob import glob\n",
    "\n",
    "import numpy as np\n",
    "import pandas as pd\n",
    "import seaborn as sns\n",
    "import matplotlib.pyplot as plt\n",
    "\n",
    "from adad.utils import create_dir"
   ]
  },
  {
   "cell_type": "code",
   "execution_count": 2,
   "metadata": {},
   "outputs": [
    {
     "name": "stdout",
     "output_type": "stream",
     "text": [
      "/home/lukec/workspace/applicabilityDomain\n"
     ]
    }
   ],
   "source": [
    "PATH_ROOT = Path(os.getcwd()).absolute().parent.parent\n",
    "print(PATH_ROOT)"
   ]
  },
  {
   "cell_type": "markdown",
   "metadata": {},
   "source": [
    "## Objective\n",
    "\n",
    "- Create ROC plots per dataset per model;"
   ]
  },
  {
   "cell_type": "code",
   "execution_count": 3,
   "metadata": {},
   "outputs": [],
   "source": [
    "CLASSIFIERS = ['KNeighborsClassifier', 'NNClassifier', 'RandomForestClassifier', 'SVC']\n",
    "CLF_alias = ['KNN', 'NN', 'RF', 'SVM']\n",
    "AD = ['DAIndexDelta', \n",
    "      'DAIndexGamma', \n",
    "      'DAIndexKappa', \n",
    "      'PCABoundingBox', \n",
    "      'ProbabilityClassifier', \n",
    "      'Magnet',\n",
    "      'SklearnFeatureSqueezing', \n",
    "      'SklearnRegionBasedClassifier',\n",
    "]\n",
    "AD_alias = ['DM-δ',\n",
    "            'DM-γ',\n",
    "            'DM-κ',\n",
    "            'BB',\n",
    "            'Prob.',\n",
    "            'Magnet',\n",
    "            'FS',\n",
    "            'RC'\n",
    "]\n",
    "DATASETS = ['Ames', 'BBBP', 'Cancer', 'CYP1A2', 'hERG', 'HIV', 'Liver']"
   ]
  },
  {
   "cell_type": "code",
   "execution_count": 9,
   "metadata": {},
   "outputs": [
    {
     "name": "stdout",
     "output_type": "stream",
     "text": [
      "/home/lukec/workspace/applicabilityDomain/results/KNeighborsClassifier_DAIndexDelta/Ames_roc.csv\n"
     ]
    },
    {
     "data": {
      "text/html": [
       "<div>\n",
       "<style scoped>\n",
       "    .dataframe tbody tr th:only-of-type {\n",
       "        vertical-align: middle;\n",
       "    }\n",
       "\n",
       "    .dataframe tbody tr th {\n",
       "        vertical-align: top;\n",
       "    }\n",
       "\n",
       "    .dataframe thead th {\n",
       "        text-align: right;\n",
       "    }\n",
       "</style>\n",
       "<table border=\"1\" class=\"dataframe\">\n",
       "  <thead>\n",
       "    <tr style=\"text-align: right;\">\n",
       "      <th></th>\n",
       "      <th>cv1_fpr</th>\n",
       "      <th>cv1_tpr</th>\n",
       "      <th>cv2_fpr</th>\n",
       "      <th>cv2_tpr</th>\n",
       "      <th>cv3_fpr</th>\n",
       "      <th>cv3_tpr</th>\n",
       "      <th>cv4_fpr</th>\n",
       "      <th>cv4_tpr</th>\n",
       "      <th>cv5_fpr</th>\n",
       "      <th>cv5_tpr</th>\n",
       "    </tr>\n",
       "  </thead>\n",
       "  <tbody>\n",
       "    <tr>\n",
       "      <th>0</th>\n",
       "      <td>0.00000</td>\n",
       "      <td>0.000000</td>\n",
       "      <td>0.000000</td>\n",
       "      <td>0.000000</td>\n",
       "      <td>0.000000</td>\n",
       "      <td>0.000000</td>\n",
       "      <td>0.000000</td>\n",
       "      <td>0.000000</td>\n",
       "      <td>0.00000</td>\n",
       "      <td>0.000000</td>\n",
       "    </tr>\n",
       "    <tr>\n",
       "      <th>1</th>\n",
       "      <td>0.00099</td>\n",
       "      <td>0.000000</td>\n",
       "      <td>0.000000</td>\n",
       "      <td>0.003236</td>\n",
       "      <td>0.000000</td>\n",
       "      <td>0.003636</td>\n",
       "      <td>0.000999</td>\n",
       "      <td>0.000000</td>\n",
       "      <td>0.00000</td>\n",
       "      <td>0.003559</td>\n",
       "    </tr>\n",
       "    <tr>\n",
       "      <th>2</th>\n",
       "      <td>0.00099</td>\n",
       "      <td>0.003425</td>\n",
       "      <td>0.002016</td>\n",
       "      <td>0.003236</td>\n",
       "      <td>0.001949</td>\n",
       "      <td>0.003636</td>\n",
       "      <td>0.000999</td>\n",
       "      <td>0.003333</td>\n",
       "      <td>0.00000</td>\n",
       "      <td>0.010676</td>\n",
       "    </tr>\n",
       "    <tr>\n",
       "      <th>3</th>\n",
       "      <td>0.00495</td>\n",
       "      <td>0.003425</td>\n",
       "      <td>0.002016</td>\n",
       "      <td>0.009709</td>\n",
       "      <td>0.001949</td>\n",
       "      <td>0.010909</td>\n",
       "      <td>0.002997</td>\n",
       "      <td>0.003333</td>\n",
       "      <td>0.00098</td>\n",
       "      <td>0.010676</td>\n",
       "    </tr>\n",
       "    <tr>\n",
       "      <th>4</th>\n",
       "      <td>0.00495</td>\n",
       "      <td>0.006849</td>\n",
       "      <td>0.004032</td>\n",
       "      <td>0.009709</td>\n",
       "      <td>0.002924</td>\n",
       "      <td>0.010909</td>\n",
       "      <td>0.002997</td>\n",
       "      <td>0.006667</td>\n",
       "      <td>0.00098</td>\n",
       "      <td>0.014235</td>\n",
       "    </tr>\n",
       "  </tbody>\n",
       "</table>\n",
       "</div>"
      ],
      "text/plain": [
       "   cv1_fpr   cv1_tpr   cv2_fpr   cv2_tpr   cv3_fpr   cv3_tpr   cv4_fpr  \\\n",
       "0  0.00000  0.000000  0.000000  0.000000  0.000000  0.000000  0.000000   \n",
       "1  0.00099  0.000000  0.000000  0.003236  0.000000  0.003636  0.000999   \n",
       "2  0.00099  0.003425  0.002016  0.003236  0.001949  0.003636  0.000999   \n",
       "3  0.00495  0.003425  0.002016  0.009709  0.001949  0.010909  0.002997   \n",
       "4  0.00495  0.006849  0.004032  0.009709  0.002924  0.010909  0.002997   \n",
       "\n",
       "    cv4_tpr  cv5_fpr   cv5_tpr  \n",
       "0  0.000000  0.00000  0.000000  \n",
       "1  0.000000  0.00000  0.003559  \n",
       "2  0.003333  0.00000  0.010676  \n",
       "3  0.003333  0.00098  0.010676  \n",
       "4  0.006667  0.00098  0.014235  "
      ]
     },
     "execution_count": 9,
     "metadata": {},
     "output_type": "execute_result"
    }
   ],
   "source": [
    "def get_data_path(model, ad, dataset):\n",
    "    \"\"\"Return a full path of the ROC results;\"\"\"\n",
    "    path_file = os.path.join(PATH_ROOT, 'results', f'{model}_{ad}', f'{dataset}_roc.csv')\n",
    "    print(os.path.join(PATH_ROOT, 'results', f'{model}_{ad}', f'{dataset}_roc.csv'))\n",
    "    return path_file\n",
    "\n",
    "# Test function\n",
    "df = pd.read_csv(get_data_path(CLASSIFIERS[0], AD[0], DATASETS[0]))\n",
    "df.head()"
   ]
  },
  {
   "cell_type": "code",
   "execution_count": 17,
   "metadata": {},
   "outputs": [
    {
     "name": "stdout",
     "output_type": "stream",
     "text": [
      "/home/lukec/workspace/applicabilityDomain/results/KNeighborsClassifier_DAIndexDelta/Ames_roc.csv\n"
     ]
    },
    {
     "data": {
      "text/plain": [
       "0     0.000000\n",
       "1     0.019244\n",
       "2     0.035791\n",
       "3     0.051066\n",
       "4     0.075846\n",
       "        ...   \n",
       "95    0.980451\n",
       "96    0.984066\n",
       "97    0.987680\n",
       "98    0.991295\n",
       "99    1.000000\n",
       "Length: 100, dtype: float64"
      ]
     },
     "execution_count": 17,
     "metadata": {},
     "output_type": "execute_result"
    }
   ],
   "source": [
    "def get_mean_tpr(clf, ad, dataset):\n",
    "    \"\"\"Get TPR on 5-fold CV on 1 dataset with 1 classifier and 1 AD method;\"\"\"\n",
    "    mean_fpr = np.linspace(0, 1, 100)\n",
    "    df = pd.read_csv(get_data_path(clf, ad, dataset))\n",
    "    tpr = []\n",
    "    # Results are saved as 5-fold CV, starts from 1 to 5;\n",
    "    for i in range(1, 6):\n",
    "        fold_fpr = df[f'cv{i}_fpr'].dropna().to_numpy()\n",
    "        fold_tpr = df[f'cv{i}_tpr'].dropna().to_numpy()\n",
    "        interp_tpr = np.interp(mean_fpr, fold_fpr, fold_tpr)\n",
    "        interp_tpr[0] = 0.\n",
    "        tpr.append(interp_tpr)\n",
    "\n",
    "    mean_tpr = np.mean(tpr, axis=0)\n",
    "    mean_tpr[-1] = 1.0\n",
    "    mean_tpr = pd.Series(mean_tpr)\n",
    "    return mean_tpr\n",
    "\n",
    "# Test function\n",
    "res = get_mean_tpr(CLASSIFIERS[0], AD[0], DATASETS[0])\n",
    "res"
   ]
  },
  {
   "cell_type": "code",
   "execution_count": 19,
   "metadata": {},
   "outputs": [
    {
     "name": "stdout",
     "output_type": "stream",
     "text": [
      "0 DAIndexDelta DM-δ\n",
      "1 DAIndexGamma DM-γ\n",
      "2 DAIndexKappa DM-κ\n",
      "3 PCABoundingBox BB\n",
      "4 ProbabilityClassifier Prob.\n",
      "5 Magnet Magnet\n",
      "6 SklearnFeatureSqueezing FS\n",
      "7 SklearnRegionBasedClassifier RC\n"
     ]
    }
   ],
   "source": [
    "# Get a DataFrame that contains all AD method on 1 dataset and 1 classifier \n",
    "for i, (ad, ad_lbl) in enumerate(zip(AD, AD_alias)):\n",
    "    print(i, ad, ad_lbl)"
   ]
  },
  {
   "cell_type": "code",
   "execution_count": null,
   "metadata": {},
   "outputs": [],
   "source": []
  }
 ],
 "metadata": {
  "kernelspec": {
   "display_name": "Python 3.8.10 ('adad')",
   "language": "python",
   "name": "python3"
  },
  "language_info": {
   "codemirror_mode": {
    "name": "ipython",
    "version": 3
   },
   "file_extension": ".py",
   "mimetype": "text/x-python",
   "name": "python",
   "nbconvert_exporter": "python",
   "pygments_lexer": "ipython3",
   "version": "3.8.10"
  },
  "orig_nbformat": 4,
  "vscode": {
   "interpreter": {
    "hash": "32470937e9edf2b7d9af0ed876fa250b771cc7b5d28c833a7c021d6de2615914"
   }
  }
 },
 "nbformat": 4,
 "nbformat_minor": 2
}
