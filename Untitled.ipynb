{
 "cells": [
  {
   "cell_type": "code",
   "execution_count": 36,
   "id": "61f094e4",
   "metadata": {},
   "outputs": [],
   "source": [
    "import pandas as pd\n",
    "import numpy as np\n",
    "import os\n",
    "import sklearn\n",
    "import math\n",
    "from scipy.spatial.distance import cdist\n",
    "from sklearn.preprocessing import StandardScaler"
   ]
  },
  {
   "cell_type": "code",
   "execution_count": 58,
   "id": "73144353",
   "metadata": {
    "scrolled": false
   },
   "outputs": [
    {
     "name": "stdout",
     "output_type": "stream",
     "text": [
      "(6512, 167)\n"
     ]
    }
   ],
   "source": [
    "files_path = os.path.join(os.getcwd(), 'datasets')\n",
    "\n",
    "dataset_files = [os.path.join(files_path, file) for file in os.listdir(files_path)]\n",
    "\n",
    "features = pd.read_csv(dataset_files[0])\n",
    "features.head(5)"
   ]
  },
  {
   "cell_type": "code",
   "execution_count": 4,
   "id": "8063a80d",
   "metadata": {},
   "outputs": [],
   "source": [
    "X = features.iloc[:, :-1].values\n",
    "y = features.iloc[:, -1].values"
   ]
  },
  {
   "cell_type": "code",
   "execution_count": 5,
   "id": "6c66f1b6",
   "metadata": {},
   "outputs": [],
   "source": [
    "from sklearn.model_selection import train_test_split\n",
    "X_train, X_test, y_train, y_test = train_test_split(X, y, test_size=0.2)"
   ]
  },
  {
   "cell_type": "code",
   "execution_count": 6,
   "id": "3842856c",
   "metadata": {},
   "outputs": [],
   "source": [
    "from sklearn.ensemble import RandomForestClassifier\n",
    "from sklearn import svm"
   ]
  },
  {
   "cell_type": "code",
   "execution_count": 7,
   "id": "b30ad733",
   "metadata": {},
   "outputs": [],
   "source": [
    "model = RandomForestClassifier(n_estimators=300, max_features=\"auto\")\n",
    "model.fit(X_train, y_train)\n",
    "y_pred = model.predict(X_test)\n",
    "\n",
    "model2 = svm.SVC(gamma='auto', C=100)\n",
    "model2.fit(X_train, y_train)\n",
    "y_pred2 = model2.predict(X_test)"
   ]
  },
  {
   "cell_type": "code",
   "execution_count": 8,
   "id": "377a37bc",
   "metadata": {},
   "outputs": [
    {
     "name": "stdout",
     "output_type": "stream",
     "text": [
      "Accuracy: 0.8042977743668457\n",
      "Accuracy: 0.7735993860322333\n"
     ]
    }
   ],
   "source": [
    "from sklearn import metrics\n",
    "print(\"Accuracy:\",metrics.accuracy_score(y_test, y_pred))\n",
    "print(\"Accuracy:\",metrics.accuracy_score(y_test, y_pred2))"
   ]
  },
  {
   "cell_type": "code",
   "execution_count": 66,
   "id": "1a055936",
   "metadata": {},
   "outputs": [
    {
     "data": {
      "text/plain": [
       "array([[0.96666667, 0.03333333],\n",
       "       [0.41872222, 0.58127778],\n",
       "       [0.33777778, 0.66222222],\n",
       "       ...,\n",
       "       [0.74666667, 0.25333333],\n",
       "       [0.47666667, 0.52333333],\n",
       "       [0.85666667, 0.14333333]])"
      ]
     },
     "execution_count": 66,
     "metadata": {},
     "output_type": "execute_result"
    }
   ],
   "source": [
    "model.predict_proba(X_test)"
   ]
  },
  {
   "cell_type": "code",
   "execution_count": 13,
   "id": "85da737b",
   "metadata": {},
   "outputs": [],
   "source": [
    "class AbstractClassifier:\n",
    "    def __init__(self):\n",
    "        self.model = None\n",
    "    def train_model(X_train, y_train):\n",
    "        pass\n",
    "    \n",
    "class RandomForest(AbstractClassifier):\n",
    "    def __init__(self):\n",
    "        self.model = RandomForestClassifier(n_estimators=300, max_features=\"auto\")\n",
    "    def train_model(self, X_train, y_train):\n",
    "        self.model.fit(X_train, y_train)\n",
    "        \n",
    "class SVM(AbstractClassifier):\n",
    "    def __init__(self):\n",
    "        self.model = svm.SVC(gamma='auto', C=100)\n",
    "    def train_model(self, X_train, y_train):\n",
    "        self.model.fit(X_train, y_train)\n",
    "        \n"
   ]
  },
  {
   "cell_type": "code",
   "execution_count": 20,
   "id": "77dc919a",
   "metadata": {},
   "outputs": [],
   "source": [
    "class AbstractAppDomain:\n",
    "    def __init__(self, AbstractClassifier):\n",
    "        pass\n",
    "    \n",
    "    def get_distance(self, test, train, sort=True):\n",
    "        distance = cdist(test, train, metric='euclidean')\n",
    "        return distance"
   ]
  },
  {
   "cell_type": "code",
   "execution_count": 15,
   "id": "f7d0cd80",
   "metadata": {},
   "outputs": [],
   "source": [
    "estimator = model.estimators_[5]"
   ]
  },
  {
   "cell_type": "code",
   "execution_count": 16,
   "id": "e759852e",
   "metadata": {},
   "outputs": [
    {
     "name": "stdout",
     "output_type": "stream",
     "text": [
      "DecisionTreeClassifier(max_features='auto', random_state=399976727)\n"
     ]
    }
   ],
   "source": [
    "print(estimator)"
   ]
  },
  {
   "cell_type": "code",
   "execution_count": 73,
   "id": "99481ef0",
   "metadata": {
    "scrolled": true
   },
   "outputs": [
    {
     "name": "stdout",
     "output_type": "stream",
     "text": [
      "[ True  True  True ... False  True False]\n",
      "[[ 0.          0.          0.          0.4304106   1.06479812  1.77240324]\n",
      " [ 0.          0.53239906  0.53239906  0.86911622  1.3581071   1.60403405]\n",
      " [ 0.          0.          0.          0.          1.86074775  1.97324516]\n",
      " ...\n",
      " [ 0.          8.07760549 12.15063773 12.57191592 12.59539397 12.66153783]\n",
      " [ 0.          0.65674519  1.03919034  1.03919034  1.16763236  1.16763236]\n",
      " [ 0.          2.98971835  3.69625216  4.22664359  4.30341742  4.40525079]]\n"
     ]
    }
   ],
   "source": [
    "ad = AbstractAppDomain(RandomForest())\n",
    "\n",
    "scaler = StandardScaler()\n",
    "train_normalized = scaler.fit_transform(X_train)\n",
    "test_normalized = scaler.transform(X_test)\n",
    "distance = ad.get_distance(train_normalized, train_normalized)\n",
    "    \n",
    "a_file.close()\n",
    "\n",
    "distance.sort()\n",
    "    \n",
    "a_file.close()\n",
    "\n",
    "\n",
    "kNN_distance = np.mean(distance[:, :6], axis = 1)\n",
    "applicable = kNN_distance <= 1\n",
    "\n",
    "print(applicable)\n",
    "print(distance[:, :6])"
   ]
  },
  {
   "cell_type": "code",
   "execution_count": 49,
   "id": "1e5fee24",
   "metadata": {},
   "outputs": [],
   "source": [
    "model.predict_prob"
   ]
  },
  {
   "cell_type": "code",
   "execution_count": 76,
   "id": "5c0c8a43",
   "metadata": {},
   "outputs": [
    {
     "name": "stdout",
     "output_type": "stream",
     "text": [
      "fit is OK.\n",
      "[0.54460199 0.81600925 0.63899882 ... 9.67618182 0.8450651  3.27021372]\n",
      "[ 2.67313122  0.30264438  8.2227843  ... 10.45146336  7.92043524\n",
      "  4.21304547]\n",
      "[0.54460199 0.81600925 0.63899882 ... 9.67618182 0.8450651  3.27021372]\n",
      "[ 2.67313122  0.30264438  8.2227843  ... 10.45146336  7.92043524\n",
      "  4.21304547]\n",
      "success!\n",
      "Accuracy: 0.7881811204911742\n"
     ]
    }
   ],
   "source": [
    "from sklearn.datasets import load_boston\n",
    "from sklearn.model_selection import train_test_split\n",
    "import pandas as pd\n",
    "from applicability_domain import ApplicabilityDomainDetector\n",
    "\n",
    "ad = ApplicabilityDomainDetector()\n",
    "ad.fit(X_train)\n",
    "print('fit is OK.')\n",
    "\n",
    "del ad\n",
    "ad = ApplicabilityDomainDetector()\n",
    "ad.fit_transform(X_train)\n",
    "\n",
    "ad.transform(X_test)\n",
    "\n",
    "support_train = ad.get_support(X_train)\n",
    "support_test = ad.get_support(X_test)\n",
    "\n",
    "X_train[support_train]\n",
    "X_test[support_test]\n",
    "\n",
    "print('success!')\n",
    "\n",
    "y_pred3 = model.predict(X_test)\n",
    "\n",
    "y_pred3[~support_test] = 0\n",
    "\n",
    "print(\"Accuracy:\",metrics.accuracy_score(y_test, y_pred3))"
   ]
  },
  {
   "cell_type": "code",
   "execution_count": 64,
   "id": "aac9b30d",
   "metadata": {},
   "outputs": [
    {
     "name": "stdout",
     "output_type": "stream",
     "text": [
      "[0. 1. 1. ... 0. 1. 0.]\n"
     ]
    }
   ],
   "source": [
    "print(y_pred3)"
   ]
  },
  {
   "cell_type": "code",
   "execution_count": 67,
   "id": "0f4f27ca",
   "metadata": {},
   "outputs": [
    {
     "name": "stdout",
     "output_type": "stream",
     "text": [
      "[ True  True  True ... False  True  True]\n"
     ]
    }
   ],
   "source": [
    "print(support_test)"
   ]
  },
  {
   "cell_type": "code",
   "execution_count": 72,
   "id": "213e6afc",
   "metadata": {},
   "outputs": [
    {
     "name": "stdout",
     "output_type": "stream",
     "text": [
      "[ 2.67313122  0.30264438  8.2227843  ... 10.45146336  7.92043524\n",
      "  4.21304547]\n"
     ]
    }
   ],
   "source": [
    "print(ad.kNN_train_test_distance_)"
   ]
  },
  {
   "cell_type": "code",
   "execution_count": 71,
   "id": "f019c27a",
   "metadata": {},
   "outputs": [
    {
     "name": "stdout",
     "output_type": "stream",
     "text": [
      "[[ 0.          0.         -0.02263176 ... -0.5510542   1.63592526\n",
      "   0.        ]\n",
      " [ 0.          0.         -0.02263176 ... -0.93634834  0.81445375\n",
      "   0.        ]\n",
      " [ 0.          0.         -0.02263176 ... -0.5510542   1.49901335\n",
      "   0.        ]\n",
      " ...\n",
      " [ 0.          0.         -0.02263176 ...  0.21953408  1.49901335\n",
      "   0.        ]\n",
      " [ 0.          0.         -0.02263176 ... -0.93634834  0.403718\n",
      "   0.        ]\n",
      " [ 0.          0.         -0.02263176 ...  0.21953408 -1.37613694\n",
      "   0.        ]]\n",
      "[[ 0.          0.         -0.02263176 ... -0.93634834 -0.55466543\n",
      "   0.        ]\n",
      " [ 0.          0.         -0.02263176 ... -0.93634834  1.63592526\n",
      "   0.        ]\n",
      " [ 0.          0.         -0.02263176 ...  0.60482821  0.54062992\n",
      "   0.        ]\n",
      " ...\n",
      " [ 0.          0.         -0.02263176 ... -0.93634834 -1.37613694\n",
      "   0.        ]\n",
      " [ 0.          0.         -0.02263176 ...  0.99012235  0.67754184\n",
      "   0.        ]\n",
      " [ 0.          0.         -0.02263176 ... -0.5510542  -1.37613694\n",
      "   0.        ]]\n"
     ]
    }
   ],
   "source": [
    "print(ad.train_normalized_)\n",
    "print(ad.test_normalized_)"
   ]
  },
  {
   "cell_type": "code",
   "execution_count": 77,
   "id": "362779b6",
   "metadata": {},
   "outputs": [
    {
     "name": "stdout",
     "output_type": "stream",
     "text": [
      "10.066294767550437\n"
     ]
    }
   ],
   "source": [
    "print(ad.threshold_)"
   ]
  },
  {
   "cell_type": "code",
   "execution_count": null,
   "id": "8d782ff1",
   "metadata": {},
   "outputs": [],
   "source": []
  }
 ],
 "metadata": {
  "kernelspec": {
   "display_name": "Python 3",
   "language": "python",
   "name": "python3"
  },
  "language_info": {
   "codemirror_mode": {
    "name": "ipython",
    "version": 3
   },
   "file_extension": ".py",
   "mimetype": "text/x-python",
   "name": "python",
   "nbconvert_exporter": "python",
   "pygments_lexer": "ipython3",
   "version": "3.8.8"
  }
 },
 "nbformat": 4,
 "nbformat_minor": 5
}
